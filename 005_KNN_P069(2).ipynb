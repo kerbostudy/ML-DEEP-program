{
  "nbformat": 4,
  "nbformat_minor": 0,
  "metadata": {
    "colab": {
      "provenance": []
    },
    "kernelspec": {
      "name": "python3",
      "display_name": "Python 3"
    },
    "language_info": {
      "name": "python"
    }
  },
  "cells": [
    {
      "cell_type": "markdown",
      "source": [
        "#### KNN(K-Nearest Neighbors)"
      ],
      "metadata": {
        "id": "Vn_0pW3Ial4S"
      }
    },
    {
      "cell_type": "markdown",
      "source": [
        "#### import library"
      ],
      "metadata": {
        "id": "DL7BCPJ6v1AU"
      }
    },
    {
      "cell_type": "code",
      "execution_count": 9,
      "metadata": {
        "id": "w7htuCX3Tii8"
      },
      "outputs": [],
      "source": [
        "# library & data\n",
        "import numpy as np\n",
        "import pandas as pd\n",
        "import matplotlib.pyplot as plt\n",
        "from sklearn import metrics\n",
        "# from sklearn.datasets import load_iris\n",
        "# iris = load_iris()\n",
        "\n",
        "# column of dataset\n",
        "#names = ['Sepal.Length', 'Sepal.Width', 'Petal.Length', 'Petal.Width', 'Species']\n",
        "#dataset = pd.read_csv('/content/dmu_data/Iris.csv')\n",
        "dataset = pd.read_csv('../content/sample_data/Data_all/iris.csv')"
      ]
    },
    {
      "cell_type": "markdown",
      "source": [
        "#### search of data"
      ],
      "metadata": {
        "id": "1Hz49vD9vuwg"
      }
    },
    {
      "cell_type": "code",
      "source": [
        "dataset\n",
        "#print(dataset)\n",
        "#dataset.info()\n",
        "#dataset.describe()\n",
        "#dataset.head(5)\n",
        "#dataset.tail()\n",
        "#dataset.columns\n",
        "#dataset.shape\n",
        "#dataset.dtypes\n",
        "#dataset.isnull().sum()"
      ],
      "metadata": {
        "colab": {
          "base_uri": "https://localhost:8080/"
        },
        "id": "gvNfaV1ft6Fs",
        "outputId": "cd8541d0-7a03-42b4-9c59-5fc25171eeed"
      },
      "execution_count": 28,
      "outputs": [
        {
          "output_type": "stream",
          "name": "stdout",
          "text": [
            "     Sepal.Length  Sepal.Width  Petal.Length  Petal.Width    Species\n",
            "0             5.1          3.5           1.4          0.2     setosa\n",
            "1             4.9          3.0           1.4          0.2     setosa\n",
            "2             4.7          3.2           1.3          0.2     setosa\n",
            "3             4.6          3.1           1.5          0.2     setosa\n",
            "4             5.0          3.6           1.4          0.2     setosa\n",
            "..            ...          ...           ...          ...        ...\n",
            "145           6.7          3.0           5.2          2.3  virginica\n",
            "146           6.3          2.5           5.0          1.9  virginica\n",
            "147           6.5          3.0           5.2          2.0  virginica\n",
            "148           6.2          3.4           5.4          2.3  virginica\n",
            "149           5.9          3.0           5.1          1.8  virginica\n",
            "\n",
            "[150 rows x 5 columns]\n"
          ]
        }
      ]
    },
    {
      "cell_type": "code",
      "source": [
        "# training과 test dataset 분리\n",
        "X = dataset.iloc[0:, :-1].values   # 뒤에서 하나를 뺀 값을 가져와서 X에 저장\n",
        "y = dataset.iloc[:,  4].values     # 열은 앞에서 다섯 번째 값만 가져와서 y에 저장\n",
        "\n",
        "#X.shape\n",
        "#X\n",
        "#y.shape\n",
        "#y\n",
        "#print(X)\n",
        "print(y)"
      ],
      "metadata": {
        "id": "vcE5QCardoGe",
        "colab": {
          "base_uri": "https://localhost:8080/"
        },
        "outputId": "d3244e56-162c-4cf0-8fd6-dc164c6e9430"
      },
      "execution_count": 47,
      "outputs": [
        {
          "output_type": "stream",
          "name": "stdout",
          "text": [
            "['setosa' 'setosa' 'setosa' 'setosa' 'setosa' 'setosa' 'setosa' 'setosa'\n",
            " 'setosa' 'setosa' 'setosa' 'setosa' 'setosa' 'setosa' 'setosa' 'setosa'\n",
            " 'setosa' 'setosa' 'setosa' 'setosa' 'setosa' 'setosa' 'setosa' 'setosa'\n",
            " 'setosa' 'setosa' 'setosa' 'setosa' 'setosa' 'setosa' 'setosa' 'setosa'\n",
            " 'setosa' 'setosa' 'setosa' 'setosa' 'setosa' 'setosa' 'setosa' 'setosa'\n",
            " 'setosa' 'setosa' 'setosa' 'setosa' 'setosa' 'setosa' 'setosa' 'setosa'\n",
            " 'setosa' 'setosa' 'versicolor' 'versicolor' 'versicolor' 'versicolor'\n",
            " 'versicolor' 'versicolor' 'versicolor' 'versicolor' 'versicolor'\n",
            " 'versicolor' 'versicolor' 'versicolor' 'versicolor' 'versicolor'\n",
            " 'versicolor' 'versicolor' 'versicolor' 'versicolor' 'versicolor'\n",
            " 'versicolor' 'versicolor' 'versicolor' 'versicolor' 'versicolor'\n",
            " 'versicolor' 'versicolor' 'versicolor' 'versicolor' 'versicolor'\n",
            " 'versicolor' 'versicolor' 'versicolor' 'versicolor' 'versicolor'\n",
            " 'versicolor' 'versicolor' 'versicolor' 'versicolor' 'versicolor'\n",
            " 'versicolor' 'versicolor' 'versicolor' 'versicolor' 'versicolor'\n",
            " 'versicolor' 'versicolor' 'versicolor' 'versicolor' 'versicolor'\n",
            " 'versicolor' 'virginica' 'virginica' 'virginica' 'virginica' 'virginica'\n",
            " 'virginica' 'virginica' 'virginica' 'virginica' 'virginica' 'virginica'\n",
            " 'virginica' 'virginica' 'virginica' 'virginica' 'virginica' 'virginica'\n",
            " 'virginica' 'virginica' 'virginica' 'virginica' 'virginica' 'virginica'\n",
            " 'virginica' 'virginica' 'virginica' 'virginica' 'virginica' 'virginica'\n",
            " 'virginica' 'virginica' 'virginica' 'virginica' 'virginica' 'virginica'\n",
            " 'virginica' 'virginica' 'virginica' 'virginica' 'virginica' 'virginica'\n",
            " 'virginica' 'virginica' 'virginica' 'virginica' 'virginica' 'virginica'\n",
            " 'virginica' 'virginica' 'virginica']\n"
          ]
        }
      ]
    },
    {
      "cell_type": "markdown",
      "source": [
        "#### training dataset : 80% / test dataset : 20%  "
      ],
      "metadata": {
        "id": "7k2_xyqjxvap"
      }
    },
    {
      "cell_type": "code",
      "source": [
        "from sklearn.model_selection import train_test_split\n",
        "X_train, X_test, y_train, y_test = train_test_split(X, y, test_size=0.20)   # test dataset 20% 사용\n",
        "\n",
        "#X_train.shape\n",
        "X_test.shape\n",
        "#y_train.shape\n",
        "#y_test.shape\n"
      ],
      "metadata": {
        "colab": {
          "base_uri": "https://localhost:8080/"
        },
        "id": "3INfcSLMwKhJ",
        "outputId": "a3e93418-185d-45e3-a36c-516cab328561"
      },
      "execution_count": 54,
      "outputs": [
        {
          "output_type": "execute_result",
          "data": {
            "text/plain": [
              "array([[7.2, 3.2, 6. , 1.8],\n",
              "       [6.4, 3.1, 5.5, 1.8],\n",
              "       [6.2, 2.2, 4.5, 1.5],\n",
              "       [4.8, 3. , 1.4, 0.1],\n",
              "       [6.5, 3. , 5.2, 2. ],\n",
              "       [6. , 3. , 4.8, 1.8],\n",
              "       [4.7, 3.2, 1.6, 0.2],\n",
              "       [4.9, 2.5, 4.5, 1.7],\n",
              "       [5.6, 3. , 4.5, 1.5],\n",
              "       [5.4, 3. , 4.5, 1.5],\n",
              "       [4.8, 3.4, 1.6, 0.2],\n",
              "       [7.2, 3. , 5.8, 1.6],\n",
              "       [5.7, 2.9, 4.2, 1.3],\n",
              "       [5.5, 4.2, 1.4, 0.2],\n",
              "       [7.4, 2.8, 6.1, 1.9],\n",
              "       [4.6, 3.4, 1.4, 0.3],\n",
              "       [6.3, 3.3, 6. , 2.5],\n",
              "       [5.7, 2.8, 4.5, 1.3],\n",
              "       [6.3, 3.3, 4.7, 1.6],\n",
              "       [5. , 3.6, 1.4, 0.2],\n",
              "       [5.6, 2.9, 3.6, 1.3],\n",
              "       [6. , 2.2, 5. , 1.5],\n",
              "       [6.5, 3. , 5.8, 2.2],\n",
              "       [7.9, 3.8, 6.4, 2. ],\n",
              "       [5.9, 3.2, 4.8, 1.8],\n",
              "       [6.8, 2.8, 4.8, 1.4],\n",
              "       [6.3, 2.7, 4.9, 1.8],\n",
              "       [6.4, 3.2, 5.3, 2.3],\n",
              "       [5.9, 3. , 4.2, 1.5],\n",
              "       [6.7, 3. , 5.2, 2.3]])"
            ]
          },
          "metadata": {},
          "execution_count": 54
        }
      ]
    },
    {
      "cell_type": "code",
      "source": [
        "# Data Standardization(표준화) : Feature의 범위가 다른 경우에만 사용\n",
        "from sklearn.preprocessing import StandardScaler\n",
        "s = StandardScaler()              # 특성 스케일링(scaling), 평균이 0, 표준편차가 1이 되도록 변환\n",
        "s.fit(X_train)        ## 교과서를 변경한 부분\n",
        "\n",
        "X_train = s.transform(X_train)    # 훈련 데이터를 스케일링 처리\n",
        "X_test = s.transform(X_test)      # 테스트 데이터를 스케일링 처리\n",
        "\n",
        "#X_train\n",
        "X_test\n"
      ],
      "metadata": {
        "colab": {
          "base_uri": "https://localhost:8080/"
        },
        "id": "cQh4lesNyAuG",
        "outputId": "d31c1e50-e648-44e9-a506-b37fc7c749d3"
      },
      "execution_count": 72,
      "outputs": [
        {
          "output_type": "execute_result",
          "data": {
            "text/plain": [
              "array([[ 1.70531214,  0.32178406,  1.33917853,  0.86200281],\n",
              "       [ 0.72910483,  0.09597069,  1.05813371,  0.86200281],\n",
              "       [ 0.485053  , -1.93634972,  0.49604409,  0.47018335],\n",
              "       [-1.22330978, -0.12984269, -1.24643374, -1.35830746],\n",
              "       [ 0.85113074, -0.12984269,  0.88950683,  1.12321578],\n",
              "       [ 0.24100118, -0.12984269,  0.66467098,  0.86200281],\n",
              "       [-1.34533569,  0.32178406, -1.13401581, -1.22770097],\n",
              "       [-1.10128387, -1.25890959,  0.49604409,  0.73139632],\n",
              "       [-0.24710247, -0.12984269,  0.49604409,  0.47018335],\n",
              "       [-0.4911543 , -0.12984269,  0.49604409,  0.47018335],\n",
              "       [-1.22330978,  0.77341082, -1.13401581, -1.22770097],\n",
              "       [ 1.70531214, -0.12984269,  1.2267606 ,  0.60078984],\n",
              "       [-0.12507656, -0.35565607,  0.32741721,  0.20897038],\n",
              "       [-0.36912839,  2.57991785, -1.24643374, -1.22770097],\n",
              "       [ 1.94936396, -0.58146945,  1.39538749,  0.9926093 ],\n",
              "       [-1.4673616 ,  0.77341082, -1.24643374, -1.09709448],\n",
              "       [ 0.60707892,  0.54759744,  1.33917853,  1.77624821],\n",
              "       [-0.12507656, -0.58146945,  0.49604409,  0.20897038],\n",
              "       [ 0.60707892,  0.54759744,  0.60846202,  0.60078984],\n",
              "       [-0.97925795,  1.22503758, -1.24643374, -1.22770097],\n",
              "       [-0.24710247, -0.35565607, -0.00983657,  0.20897038],\n",
              "       [ 0.24100118, -1.93634972,  0.7770889 ,  0.47018335],\n",
              "       [ 0.85113074, -0.12984269,  1.2267606 ,  1.38442875],\n",
              "       [ 2.55949353,  1.67666434,  1.56401438,  1.12321578],\n",
              "       [ 0.11897527,  0.32178406,  0.66467098,  0.86200281],\n",
              "       [ 1.21720848, -0.58146945,  0.66467098,  0.33957686],\n",
              "       [ 0.60707892, -0.80728283,  0.72087994,  0.86200281],\n",
              "       [ 0.72910483,  0.32178406,  0.94571579,  1.51503524],\n",
              "       [ 0.11897527, -0.12984269,  0.32741721,  0.47018335],\n",
              "       [ 1.09518257, -0.12984269,  0.88950683,  1.51503524]])"
            ]
          },
          "metadata": {},
          "execution_count": 72
        }
      ]
    },
    {
      "cell_type": "code",
      "source": [
        "# create model (KNN)\n",
        "from sklearn.neighbors import KNeighborsClassifier\n",
        "knn = KNeighborsClassifier(n_neighbors=50)          # K의값 :3,5,7,9,11,13,15,17,19......49\n",
        "#y_train = y_train.astype(int)   # fix type error\n",
        "knn.fit(X_train, y_train)"
      ],
      "metadata": {
        "colab": {
          "base_uri": "https://localhost:8080/",
          "height": 75
        },
        "id": "HimnbSIPgTg0",
        "outputId": "d70d9648-32af-425b-9f23-9faa082a03c4"
      },
      "execution_count": 76,
      "outputs": [
        {
          "output_type": "execute_result",
          "data": {
            "text/plain": [
              "KNeighborsClassifier(n_neighbors=3)"
            ],
            "text/html": [
              "<style>#sk-container-id-5 {color: black;}#sk-container-id-5 pre{padding: 0;}#sk-container-id-5 div.sk-toggleable {background-color: white;}#sk-container-id-5 label.sk-toggleable__label {cursor: pointer;display: block;width: 100%;margin-bottom: 0;padding: 0.3em;box-sizing: border-box;text-align: center;}#sk-container-id-5 label.sk-toggleable__label-arrow:before {content: \"▸\";float: left;margin-right: 0.25em;color: #696969;}#sk-container-id-5 label.sk-toggleable__label-arrow:hover:before {color: black;}#sk-container-id-5 div.sk-estimator:hover label.sk-toggleable__label-arrow:before {color: black;}#sk-container-id-5 div.sk-toggleable__content {max-height: 0;max-width: 0;overflow: hidden;text-align: left;background-color: #f0f8ff;}#sk-container-id-5 div.sk-toggleable__content pre {margin: 0.2em;color: black;border-radius: 0.25em;background-color: #f0f8ff;}#sk-container-id-5 input.sk-toggleable__control:checked~div.sk-toggleable__content {max-height: 200px;max-width: 100%;overflow: auto;}#sk-container-id-5 input.sk-toggleable__control:checked~label.sk-toggleable__label-arrow:before {content: \"▾\";}#sk-container-id-5 div.sk-estimator input.sk-toggleable__control:checked~label.sk-toggleable__label {background-color: #d4ebff;}#sk-container-id-5 div.sk-label input.sk-toggleable__control:checked~label.sk-toggleable__label {background-color: #d4ebff;}#sk-container-id-5 input.sk-hidden--visually {border: 0;clip: rect(1px 1px 1px 1px);clip: rect(1px, 1px, 1px, 1px);height: 1px;margin: -1px;overflow: hidden;padding: 0;position: absolute;width: 1px;}#sk-container-id-5 div.sk-estimator {font-family: monospace;background-color: #f0f8ff;border: 1px dotted black;border-radius: 0.25em;box-sizing: border-box;margin-bottom: 0.5em;}#sk-container-id-5 div.sk-estimator:hover {background-color: #d4ebff;}#sk-container-id-5 div.sk-parallel-item::after {content: \"\";width: 100%;border-bottom: 1px solid gray;flex-grow: 1;}#sk-container-id-5 div.sk-label:hover label.sk-toggleable__label {background-color: #d4ebff;}#sk-container-id-5 div.sk-serial::before {content: \"\";position: absolute;border-left: 1px solid gray;box-sizing: border-box;top: 0;bottom: 0;left: 50%;z-index: 0;}#sk-container-id-5 div.sk-serial {display: flex;flex-direction: column;align-items: center;background-color: white;padding-right: 0.2em;padding-left: 0.2em;position: relative;}#sk-container-id-5 div.sk-item {position: relative;z-index: 1;}#sk-container-id-5 div.sk-parallel {display: flex;align-items: stretch;justify-content: center;background-color: white;position: relative;}#sk-container-id-5 div.sk-item::before, #sk-container-id-5 div.sk-parallel-item::before {content: \"\";position: absolute;border-left: 1px solid gray;box-sizing: border-box;top: 0;bottom: 0;left: 50%;z-index: -1;}#sk-container-id-5 div.sk-parallel-item {display: flex;flex-direction: column;z-index: 1;position: relative;background-color: white;}#sk-container-id-5 div.sk-parallel-item:first-child::after {align-self: flex-end;width: 50%;}#sk-container-id-5 div.sk-parallel-item:last-child::after {align-self: flex-start;width: 50%;}#sk-container-id-5 div.sk-parallel-item:only-child::after {width: 0;}#sk-container-id-5 div.sk-dashed-wrapped {border: 1px dashed gray;margin: 0 0.4em 0.5em 0.4em;box-sizing: border-box;padding-bottom: 0.4em;background-color: white;}#sk-container-id-5 div.sk-label label {font-family: monospace;font-weight: bold;display: inline-block;line-height: 1.2em;}#sk-container-id-5 div.sk-label-container {text-align: center;}#sk-container-id-5 div.sk-container {/* jupyter's `normalize.less` sets `[hidden] { display: none; }` but bootstrap.min.css set `[hidden] { display: none !important; }` so we also need the `!important` here to be able to override the default hidden behavior on the sphinx rendered scikit-learn.org. See: https://github.com/scikit-learn/scikit-learn/issues/21755 */display: inline-block !important;position: relative;}#sk-container-id-5 div.sk-text-repr-fallback {display: none;}</style><div id=\"sk-container-id-5\" class=\"sk-top-container\"><div class=\"sk-text-repr-fallback\"><pre>KNeighborsClassifier(n_neighbors=3)</pre><b>In a Jupyter environment, please rerun this cell to show the HTML representation or trust the notebook. <br />On GitHub, the HTML representation is unable to render, please try loading this page with nbviewer.org.</b></div><div class=\"sk-container\" hidden><div class=\"sk-item\"><div class=\"sk-estimator sk-toggleable\"><input class=\"sk-toggleable__control sk-hidden--visually\" id=\"sk-estimator-id-5\" type=\"checkbox\" checked><label for=\"sk-estimator-id-5\" class=\"sk-toggleable__label sk-toggleable__label-arrow\">KNeighborsClassifier</label><div class=\"sk-toggleable__content\"><pre>KNeighborsClassifier(n_neighbors=3)</pre></div></div></div></div></div>"
            ]
          },
          "metadata": {},
          "execution_count": 76
        }
      ]
    },
    {
      "cell_type": "code",
      "source": [
        "# model accuracy\n",
        "from sklearn import metrics\n",
        "y_pred = knn.predict(X_test)\n",
        "#y_test = y_test.astype(int)\n",
        "print(\"Accuracy: {}\".format(metrics.accuracy_score(y_test, y_pred)))"
      ],
      "metadata": {
        "colab": {
          "base_uri": "https://localhost:8080/"
        },
        "id": "012Hvy4qhcua",
        "outputId": "cff6a40b-e442-425f-9133-eeaa36ed0cb0"
      },
      "execution_count": 87,
      "outputs": [
        {
          "output_type": "stream",
          "name": "stdout",
          "text": [
            "Accuracy: 0.9\n"
          ]
        }
      ]
    },
    {
      "cell_type": "code",
      "source": [
        "#########################################################\n",
        "k = 10\n",
        "acc_array = np.zeros(k)\n",
        "for k in np.arange(1, k+1, 1):\n",
        "    classifier = KNeighborsClassifier(n_neighbors=k).fit(X_train, y_train)\n",
        "    y_pred = knn.predict(X_test)\n",
        "    acc = metrics.accuracy_score(y_test, y_pred)\n",
        "    acc_array[k-1] = acc\n",
        "\n",
        "max_acc = np.amax(acc_array)\n",
        "acc_list = list(acc_array)\n",
        "k = acc_list.index(max_acc)\n",
        "print(\"Accuracy is \", metrics.accuracy_score(y_test, y_pred), \"for K-Value:\", k)\n",
        ""
      ],
      "metadata": {
        "id": "fuTuz3TQihNc",
        "colab": {
          "base_uri": "https://localhost:8080/"
        },
        "outputId": "37d968ca-8a89-47e0-c78d-c9879297344f"
      },
      "execution_count": 90,
      "outputs": [
        {
          "output_type": "stream",
          "name": "stdout",
          "text": [
            "Accuracy is  0.9 for K-Value: 0\n"
          ]
        }
      ]
    }
  ]
}