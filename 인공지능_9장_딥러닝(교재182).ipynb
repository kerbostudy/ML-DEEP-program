{
  "nbformat": 4,
  "nbformat_minor": 0,
  "metadata": {
    "colab": {
      "provenance": []
    },
    "kernelspec": {
      "name": "python3",
      "display_name": "Python 3"
    },
    "language_info": {
      "name": "python"
    }
  },
  "cells": [
    {
      "cell_type": "markdown",
      "source": [
        "MNIST 데이터셋을 활용한 분류예측 모델"
      ],
      "metadata": {
        "id": "LDDa0A3QP7UB"
      }
    },
    {
      "cell_type": "code",
      "source": [
        "import tensorflow as tf\n",
        "from tensorflow.keras.datasets import mnist\n",
        "from tensorflow.keras.models import Sequential\n",
        "from tensorflow.keras.layers import Conv2D, MaxPooling2D, Flatten, Dense\n",
        "\n",
        "# 데이터 불러오기 및 전처리\n",
        "(x_train, y_train), (x_test, y_test) = mnist.load_data()\n",
        "x_train = x_train.reshape(-1, 28, 28, 1) / 255.0\n",
        "x_test = x_test.reshape(-1, 28, 28, 1) / 255.0\n",
        "y_train = tf.keras.utils.to_categorical(y_train, num_classes=10)\n",
        "y_test = tf.keras.utils.to_categorical(y_test, num_classes=10)\n",
        "\n",
        "# CNN 모델 구성\n",
        "model = Sequential()\n",
        "model.add(Conv2D(32, (3, 3), activation='relu', input_shape=(28, 28, 1)))\n",
        "model.add(MaxPooling2D((2, 2)))\n",
        "model.add(Conv2D(64, (3, 3), activation='relu'))\n",
        "model.add(MaxPooling2D((2, 2)))\n",
        "model.add(Flatten())\n",
        "model.add(Dense(64, activation='relu'))\n",
        "model.add(Dense(10, activation='softmax'))\n",
        "\n",
        "# 모델 컴파일\n",
        "model.compile(optimizer='adam',\n",
        "              loss='categorical_crossentropy',\n",
        "              metrics=['accuracy'])\n",
        "\n",
        "# 모델 학습\n",
        "model.fit(x_train, y_train, batch_size=64, epochs=10, validation_data=(x_test, y_test))\n",
        "\n",
        "# 모델 평가\n",
        "loss, accuracy = model.evaluate(x_test, y_test)\n",
        "print(\"Test Loss:\", loss)\n",
        "print(\"Test Accuracy:\", accuracy)"
      ],
      "metadata": {
        "colab": {
          "base_uri": "https://localhost:8080/"
        },
        "id": "hibzis-rN1lc",
        "outputId": "fbbfbe5f-8a45-4978-bd57-003db6f3ecff"
      },
      "execution_count": null,
      "outputs": [
        {
          "output_type": "stream",
          "name": "stdout",
          "text": [
            "Downloading data from https://storage.googleapis.com/tensorflow/tf-keras-datasets/mnist.npz\n",
            "11490434/11490434 [==============================] - 0s 0us/step\n",
            "Epoch 1/10\n",
            "938/938 [==============================] - 37s 38ms/step - loss: 0.1900 - accuracy: 0.9427 - val_loss: 0.0577 - val_accuracy: 0.9824\n",
            "Epoch 2/10\n",
            "938/938 [==============================] - 35s 38ms/step - loss: 0.0552 - accuracy: 0.9827 - val_loss: 0.0438 - val_accuracy: 0.9858\n",
            "Epoch 3/10\n",
            "938/938 [==============================] - 36s 38ms/step - loss: 0.0396 - accuracy: 0.9878 - val_loss: 0.0303 - val_accuracy: 0.9897\n",
            "Epoch 4/10\n",
            "938/938 [==============================] - 37s 39ms/step - loss: 0.0297 - accuracy: 0.9906 - val_loss: 0.0353 - val_accuracy: 0.9887\n",
            "Epoch 5/10\n",
            "938/938 [==============================] - 35s 37ms/step - loss: 0.0234 - accuracy: 0.9928 - val_loss: 0.0332 - val_accuracy: 0.9898\n",
            "Epoch 6/10\n",
            "938/938 [==============================] - 36s 38ms/step - loss: 0.0174 - accuracy: 0.9945 - val_loss: 0.0369 - val_accuracy: 0.9889\n",
            "Epoch 7/10\n",
            "938/938 [==============================] - 35s 37ms/step - loss: 0.0143 - accuracy: 0.9951 - val_loss: 0.0396 - val_accuracy: 0.9882\n",
            "Epoch 8/10\n",
            "938/938 [==============================] - 35s 37ms/step - loss: 0.0117 - accuracy: 0.9962 - val_loss: 0.0381 - val_accuracy: 0.9901\n",
            "Epoch 9/10\n",
            "938/938 [==============================] - 35s 37ms/step - loss: 0.0097 - accuracy: 0.9970 - val_loss: 0.0349 - val_accuracy: 0.9902\n",
            "Epoch 10/10\n",
            "938/938 [==============================] - 35s 37ms/step - loss: 0.0091 - accuracy: 0.9969 - val_loss: 0.0261 - val_accuracy: 0.9921\n",
            "313/313 [==============================] - 2s 6ms/step - loss: 0.0261 - accuracy: 0.9921\n",
            "Test Loss: 0.02608633041381836\n",
            "Test Accuracy: 0.9921000003814697\n"
          ]
        }
      ]
    },
    {
      "cell_type": "markdown",
      "source": [
        "CIFAT-10 데이터셋을 활용한 분류예측 모델"
      ],
      "metadata": {
        "id": "lT4-bDOnP2ly"
      }
    },
    {
      "cell_type": "code",
      "source": [
        "import tensorflow as tf\n",
        "from tensorflow.keras import datasets, layers, models\n",
        "\n",
        "# 데이터셋 로드 및 전처리\n",
        "(train_images, train_labels), (test_images, test_labels) = datasets.cifar10.load_data()\n",
        "train_images, test_images = train_images / 255.0, test_images / 255.0\n",
        "\n",
        "# CNN 모델 구축\n",
        "model = models.Sequential()\n",
        "model.add(layers.Conv2D(32, (3, 3), activation='relu', input_shape=(32, 32, 3)))\n",
        "model.add(layers.MaxPooling2D((2, 2)))\n",
        "model.add(layers.Conv2D(64, (3, 3), activation='relu'))\n",
        "model.add(layers.MaxPooling2D((2, 2)))\n",
        "model.add(layers.Conv2D(64, (3, 3), activation='relu'))\n",
        "model.add(layers.Flatten())\n",
        "model.add(layers.Dense(64, activation='relu'))\n",
        "model.add(layers.Dense(10))\n",
        "\n",
        "# 모델 컴파일\n",
        "model.compile(optimizer='adam',\n",
        "              loss=tf.keras.losses.SparseCategoricalCrossentropy(from_logits=True),\n",
        "              metrics=['accuracy'])\n",
        "\n",
        "# 모델 학습\n",
        "model.fit(train_images, train_labels, epochs=10, validation_data=(test_images, test_labels))\n",
        "\n",
        "# 모델 평가\n",
        "test_loss, test_acc = model.evaluate(test_images, test_labels, verbose=2)\n",
        "print(\"Test accuracy:\", test_acc)"
      ],
      "metadata": {
        "colab": {
          "base_uri": "https://localhost:8080/"
        },
        "id": "M4mpDeX0Jx2z",
        "outputId": "e160ac0e-aa96-4287-c679-0f7a73cc7ef1"
      },
      "execution_count": null,
      "outputs": [
        {
          "output_type": "stream",
          "name": "stdout",
          "text": [
            "Downloading data from https://www.cs.toronto.edu/~kriz/cifar-10-python.tar.gz\n",
            "170498071/170498071 [==============================] - 2s 0us/step\n",
            "Epoch 1/10\n",
            "1563/1563 [==============================] - 56s 34ms/step - loss: 1.5548 - accuracy: 0.4285 - val_loss: 1.3101 - val_accuracy: 0.5232\n",
            "Epoch 2/10\n",
            "1563/1563 [==============================] - 50s 32ms/step - loss: 1.2256 - accuracy: 0.5630 - val_loss: 1.1417 - val_accuracy: 0.5963\n",
            "Epoch 3/10\n",
            "1563/1563 [==============================] - 51s 33ms/step - loss: 1.0755 - accuracy: 0.6219 - val_loss: 1.0348 - val_accuracy: 0.6331\n",
            "Epoch 4/10\n",
            "1563/1563 [==============================] - 51s 32ms/step - loss: 0.9736 - accuracy: 0.6565 - val_loss: 0.9700 - val_accuracy: 0.6617\n",
            "Epoch 5/10\n",
            "1563/1563 [==============================] - 50s 32ms/step - loss: 0.8982 - accuracy: 0.6875 - val_loss: 0.9258 - val_accuracy: 0.6748\n",
            "Epoch 6/10\n",
            "1563/1563 [==============================] - 50s 32ms/step - loss: 0.8416 - accuracy: 0.7055 - val_loss: 0.9582 - val_accuracy: 0.6679\n",
            "Epoch 7/10\n",
            "1563/1563 [==============================] - 49s 32ms/step - loss: 0.8015 - accuracy: 0.7206 - val_loss: 0.8708 - val_accuracy: 0.6947\n",
            "Epoch 8/10\n",
            "1563/1563 [==============================] - 52s 33ms/step - loss: 0.7554 - accuracy: 0.7352 - val_loss: 0.8779 - val_accuracy: 0.6966\n",
            "Epoch 9/10\n",
            "1563/1563 [==============================] - 50s 32ms/step - loss: 0.7173 - accuracy: 0.7478 - val_loss: 0.8962 - val_accuracy: 0.6877\n",
            "Epoch 10/10\n",
            "1563/1563 [==============================] - 50s 32ms/step - loss: 0.6790 - accuracy: 0.7623 - val_loss: 0.8542 - val_accuracy: 0.7057\n",
            "313/313 - 3s - loss: 0.8542 - accuracy: 0.7057 - 3s/epoch - 8ms/step\n",
            "Test accuracy: 0.7056999802589417\n"
          ]
        }
      ]
    },
    {
      "cell_type": "markdown",
      "source": [
        "자연어처리-감성분류 예"
      ],
      "metadata": {
        "id": "0fKaIeYkaQFs"
      }
    },
    {
      "cell_type": "code",
      "source": [
        "import tensorflow as tf\n",
        "import numpy as np\n",
        "from tensorflow.keras.preprocessing.text import Tokenizer\n",
        "from tensorflow.keras.preprocessing.sequence import pad_sequences\n",
        "from tensorflow.keras.models import Sequential\n",
        "from tensorflow.keras.layers import Embedding, LSTM, Dense\n",
        "\n",
        "# 문장 데이터\n",
        "sentences = [\n",
        "    '이 영화는 정말 재미있다.',\n",
        "    '배우들의 연기가 좋지 않아 실망스럽다.',\n",
        "    '이 영화는 지루하고 별로다.'\n",
        "]\n",
        "\n",
        "# 라벨 데이터\n",
        "labels = np.array([1, 0, 0])  # 1: 긍정, 0: 부정\n",
        "\n",
        "# 토큰화와 인덱싱\n",
        "tokenizer = Tokenizer()\n",
        "tokenizer.fit_on_texts(sentences)\n",
        "sequences = tokenizer.texts_to_sequences(sentences)\n",
        "\n",
        "# 문장의 길이 맞추기\n",
        "max_length = max(len(seq) for seq in sequences)\n",
        "padded_sequences = pad_sequences(sequences, maxlen=max_length)\n",
        "\n",
        "# 데이터 형식 변환\n",
        "padded_sequences = np.array(padded_sequences)\n",
        "labels = np.array(labels)\n",
        "\n",
        "# 모델 구성\n",
        "vocab_size = len(tokenizer.word_index) + 1\n",
        "embedding_dim = 16\n",
        "\n",
        "model = Sequential()\n",
        "model.add(Embedding(vocab_size, embedding_dim, input_length=max_length))\n",
        "model.add(LSTM(16))\n",
        "model.add(Dense(1, activation='sigmoid'))\n",
        "\n",
        "# 모델 컴파일\n",
        "model.compile(optimizer='adam', loss='binary_crossentropy', metrics=['accuracy'])\n",
        "\n",
        "# 모델 학습\n",
        "model.fit(padded_sequences, labels, epochs=10)\n",
        "\n",
        "#새로운 문장 예측\n",
        "new_sentences = [\n",
        "    '이 영화는 정말 멋지다.',\n",
        "    '배우들의 연기가 아주 훌륭하다.'\n",
        "]\n",
        "\n",
        "new_sequences = tokenizer.texts_to_sequences(new_sentences)\n",
        "new_padded_sequences = pad_sequences(new_sequences, maxlen=max_length)\n",
        "predictions = model.predict(new_padded_sequences)\n",
        "\n",
        "for i, sentence in enumerate(new_sentences):\n",
        "    if predictions[i] > 0.5:\n",
        "        sentiment = '긍정'\n",
        "    else:\n",
        "        sentiment = '부정'\n",
        "    print(f'입력 문장: {sentence}')\n",
        "    print(f'감성 분류: {sentiment}')"
      ],
      "metadata": {
        "colab": {
          "base_uri": "https://localhost:8080/"
        },
        "id": "Onvl58j4aN7N",
        "outputId": "02d48787-dfa0-4938-b328-cb099b9790f7"
      },
      "execution_count": null,
      "outputs": [
        {
          "output_type": "stream",
          "name": "stdout",
          "text": [
            "Epoch 1/10\n",
            "1/1 [==============================] - 3s 3s/step - loss: 0.6968 - accuracy: 0.0000e+00\n",
            "Epoch 2/10\n",
            "1/1 [==============================] - 0s 16ms/step - loss: 0.6948 - accuracy: 0.3333\n",
            "Epoch 3/10\n",
            "1/1 [==============================] - 0s 21ms/step - loss: 0.6929 - accuracy: 0.6667\n",
            "Epoch 4/10\n",
            "1/1 [==============================] - 0s 17ms/step - loss: 0.6909 - accuracy: 0.6667\n",
            "Epoch 5/10\n",
            "1/1 [==============================] - 0s 20ms/step - loss: 0.6890 - accuracy: 0.6667\n",
            "Epoch 6/10\n",
            "1/1 [==============================] - 0s 18ms/step - loss: 0.6871 - accuracy: 0.6667\n",
            "Epoch 7/10\n",
            "1/1 [==============================] - 0s 19ms/step - loss: 0.6852 - accuracy: 0.6667\n",
            "Epoch 8/10\n",
            "1/1 [==============================] - 0s 21ms/step - loss: 0.6833 - accuracy: 0.6667\n",
            "Epoch 9/10\n",
            "1/1 [==============================] - 0s 18ms/step - loss: 0.6814 - accuracy: 0.6667\n",
            "Epoch 10/10\n",
            "1/1 [==============================] - 0s 16ms/step - loss: 0.6794 - accuracy: 0.6667\n",
            "1/1 [==============================] - 0s 475ms/step\n",
            "입력 문장: 이 영화는 정말 멋지다.\n",
            "감성 분류: 부정\n",
            "입력 문장: 배우들의 연기가 아주 훌륭하다.\n",
            "감성 분류: 부정\n"
          ]
        }
      ]
    }
  ]
}