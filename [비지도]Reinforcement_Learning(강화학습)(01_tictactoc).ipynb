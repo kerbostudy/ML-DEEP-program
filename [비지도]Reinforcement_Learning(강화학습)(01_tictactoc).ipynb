{
  "nbformat": 4,
  "nbformat_minor": 0,
  "metadata": {
    "colab": {
      "provenance": [],
      "gpuType": "T4"
    },
    "kernelspec": {
      "name": "python3",
      "display_name": "Python 3"
    },
    "language_info": {
      "name": "python"
    },
    "accelerator": "GPU"
  },
  "cells": [
    {
      "cell_type": "markdown",
      "source": [
        "#### 강화학습 : Reinforcement Leanring\n",
        "####                   에이전트 (Agent : 사람)\n",
        "####    상태(state)        보상(reward)         행동(action)  \n",
        "####                     환경 (Environment)\n",
        "#### 마르코프      프로세스 : Markov          Process, M P\n",
        "#### 마르코프 보상 프로세스 : Markov Reward   Process, MRP\n",
        "#### 마르코프 결정 프로세스 : Markov Decesion Process, MDP  \n",
        "####                      => 벨만 기대 방정식: Bellman expectation equation"
      ],
      "metadata": {
        "id": "I6yFGAwTVbi6"
      }
    },
    {
      "cell_type": "markdown",
      "source": [
        "#### 몬테카를로 트리 탐색 : 게임 시뮬레이션을 이용하여 가장 가능성이 높아 보이는 방향으로 행동을 결정하는 탐색 방법\n",
        "#### 선택 -> 확장 -> 시뮬레이션 -> 역전파  : 계속적인 반복함"
      ],
      "metadata": {
        "id": "9UhX9VFqkDsB"
      }
    },
    {
      "cell_type": "code",
      "source": [
        "#12.5.2 몬테카를로 트리 검색을 적용한 틱택토 게임 구현하기\n",
        "boarder = {'1': ' ' , '2': ' ' , '3': ' ' ,\n",
        "            '4': ' ' , '5': ' ' , '6': ' ' ,\n",
        "            '7': ' ' , '8': ' ' , '9': ' ' }\n",
        "\n",
        "board_keys = []\n",
        "\n",
        "for key in boarder:\n",
        "    board_keys.append(key)"
      ],
      "metadata": {
        "id": "OR9SL7CsllRg"
      },
      "execution_count": 1,
      "outputs": []
    },
    {
      "cell_type": "code",
      "source": [
        "def visual_Board(board_num):\n",
        "    print(board_num['1'] + '|' + board_num['2'] + '|' + board_num['3'])\n",
        "    print('-+-+-')\n",
        "    print(board_num['4'] + '|' + board_num['5'] + '|' + board_num['6'])\n",
        "    print('-+-+-')\n",
        "    print(board_num['7'] + '|' + board_num['8'] + '|' + board_num['9'])"
      ],
      "metadata": {
        "id": "UGddSm7slqxM"
      },
      "execution_count": 2,
      "outputs": []
    },
    {
      "cell_type": "code",
      "source": [
        "def game():\n",
        "    turn = 'X'\n",
        "    count = 0\n",
        "\n",
        "    for i in range(8):\n",
        "        visual_Board(boarder)\n",
        "        print(\"당신 차례입니다,\" + turn + \". 어디로 이동할까요?\")\n",
        "        move = input()\n",
        "        if boarder[move] == ' ':\n",
        "            boarder[move] = turn\n",
        "            count += 1\n",
        "        else:\n",
        "            print(\"이미 채워져있습니다.\\n어디로 이동할까요?\")\n",
        "            continue\n",
        "\n",
        "        if count >= 5:\n",
        "            if boarder['1'] == boarder['2'] == boarder['3'] != ' ':\n",
        "                visual_Board(boarder)\n",
        "                print(\"\\n게임 종료.\\n\")\n",
        "                print(\" ---------- \" +turn + \"가 승리했습니다. -----------\")\n",
        "                break\n",
        "\n",
        "            elif boarder['4'] == boarder['5'] == boarder['6'] != ' ':\n",
        "                visual_Board(boarder)\n",
        "                print(\"\\n게임 종료.\\n\")\n",
        "                print(\" ---------- \" +turn + \"가 승리했습니다. -----------\")\n",
        "                break\n",
        "\n",
        "            elif boarder['7'] == boarder['8'] == boarder['9'] != ' ':\n",
        "                visual_Board(boarder)\n",
        "                print(\"\\n게임 종료.\\n\")\n",
        "                print(\" ---------- \" +turn + \"가 승리했습니다. -----------\")\n",
        "                break\n",
        "\n",
        "            elif boarder['1'] == boarder['4'] == boarder['7'] != ' ':\n",
        "                visual_Board(boarder)\n",
        "                print(\"\\n게임 종료.\\n\")\n",
        "                print(\" ---------- \" +turn + \"가 승리했습니다. -----------\")\n",
        "                break\n",
        "\n",
        "            elif boarder['2'] == boarder['5'] == boarder['8'] != ' ':\n",
        "                visual_Board(boarder)\n",
        "                print(\"\\n게임 종료.\\n\")\n",
        "                print(\" ---------- \" +turn + \"가 승리했습니다. -----------\")\n",
        "                break\n",
        "\n",
        "            elif boarder['3'] == boarder['6'] == boarder['9'] != ' ':\n",
        "                visual_Board(boarder)\n",
        "                print(\"\\n게임 종료.\\n\")\n",
        "                print(\" ---------- \" +turn + \"가 승리했습니다. -----------\")\n",
        "                break\n",
        "\n",
        "            elif boarder['1'] == boarder['5'] == boarder['9'] != ' ':\n",
        "                visual_Board(boarder)\n",
        "                print(\"\\n게임 종료.\\n\")\n",
        "                print(\" ---------- \" +turn + \"가 승리했습니다. -----------\")\n",
        "                break\n",
        "\n",
        "            elif boarder['3'] == boarder['5'] == boarder['7'] != ' ':\n",
        "                visual_Board(boarder)\n",
        "                print(\"\\n게임 종료.\\n\")\n",
        "                print(\" ---------- \" +turn + \"가 승리했습니다. -----------\")\n",
        "                break\n",
        "\n",
        "        if count == 9:\n",
        "            print(\"\\n게임 종료.\\n\")\n",
        "            print(\"동점입니다\")\n",
        "\n",
        "\n",
        "        if turn =='X':\n",
        "            turn = 'Y'\n",
        "        else:\n",
        "            turn = 'X'\n",
        "\n",
        "if __name__ == \"__main__\":\n",
        "    game()"
      ],
      "metadata": {
        "colab": {
          "base_uri": "https://localhost:8080/"
        },
        "id": "ki1hi7hzlsOg",
        "outputId": "edfb8bfd-19f2-436f-9c13-bf223681596f"
      },
      "execution_count": 3,
      "outputs": [
        {
          "output_type": "stream",
          "name": "stdout",
          "text": [
            " | | \n",
            "-+-+-\n",
            " | | \n",
            "-+-+-\n",
            " | | \n",
            "당신 차례입니다,X. 어디로 이동할까요?\n",
            "3\n",
            " | |X\n",
            "-+-+-\n",
            " | | \n",
            "-+-+-\n",
            " | | \n",
            "당신 차례입니다,Y. 어디로 이동할까요?\n",
            "1\n",
            "Y| |X\n",
            "-+-+-\n",
            " | | \n",
            "-+-+-\n",
            " | | \n",
            "당신 차례입니다,X. 어디로 이동할까요?\n",
            "5\n",
            "Y| |X\n",
            "-+-+-\n",
            " |X| \n",
            "-+-+-\n",
            " | | \n",
            "당신 차례입니다,Y. 어디로 이동할까요?\n",
            "2\n",
            "Y|Y|X\n",
            "-+-+-\n",
            " |X| \n",
            "-+-+-\n",
            " | | \n",
            "당신 차례입니다,X. 어디로 이동할까요?\n",
            "7\n",
            "Y|Y|X\n",
            "-+-+-\n",
            " |X| \n",
            "-+-+-\n",
            "X| | \n",
            "\n",
            "게임 종료.\n",
            "\n",
            " ---------- X가 승리했습니다. -----------\n"
          ]
        }
      ]
    }
  ]
}