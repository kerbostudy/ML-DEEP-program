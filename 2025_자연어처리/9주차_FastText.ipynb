{
  "nbformat": 4,
  "nbformat_minor": 0,
  "metadata": {
    "colab": {
      "provenance": []
    },
    "kernelspec": {
      "name": "python3",
      "display_name": "Python 3"
    },
    "language_info": {
      "name": "python"
    }
  },
  "cells": [
    {
      "cell_type": "markdown",
      "source": [
        "## 20231586 김범준 fast text"
      ],
      "metadata": {
        "id": "MADYbDSu8Yjp"
      }
    },
    {
      "cell_type": "code",
      "source": [
        "!pip install numpy==1.24.4\n",
        "!pip install gensim"
      ],
      "metadata": {
        "colab": {
          "base_uri": "https://localhost:8080/"
        },
        "id": "hUaWbOcVzzf3",
        "outputId": "d1a021dc-b6b5-471a-97a3-870763b92beb"
      },
      "execution_count": null,
      "outputs": [
        {
          "output_type": "stream",
          "name": "stdout",
          "text": [
            "Requirement already satisfied: numpy==1.24.4 in /usr/local/lib/python3.11/dist-packages (1.24.4)\n",
            "Requirement already satisfied: gensim in /usr/local/lib/python3.11/dist-packages (4.3.3)\n",
            "Requirement already satisfied: numpy<2.0,>=1.18.5 in /usr/local/lib/python3.11/dist-packages (from gensim) (1.24.4)\n",
            "Requirement already satisfied: scipy<1.14.0,>=1.7.0 in /usr/local/lib/python3.11/dist-packages (from gensim) (1.13.1)\n",
            "Requirement already satisfied: smart-open>=1.8.1 in /usr/local/lib/python3.11/dist-packages (from gensim) (7.1.0)\n",
            "Requirement already satisfied: wrapt in /usr/local/lib/python3.11/dist-packages (from smart-open>=1.8.1->gensim) (1.17.2)\n"
          ]
        }
      ]
    },
    {
      "cell_type": "code",
      "execution_count": null,
      "metadata": {
        "colab": {
          "base_uri": "https://localhost:8080/"
        },
        "id": "nG5YAnSnyszB",
        "outputId": "fac9a380-2061-46ee-fbd3-6ca4cee5dc3f"
      },
      "outputs": [
        {
          "output_type": "stream",
          "name": "stderr",
          "text": [
            "WARNING:gensim.models.word2vec:Each 'sentences' item should be a list of words (usually unicode strings). First item here is instead plain <class 'str'>.\n"
          ]
        }
      ],
      "source": [
        "from gensim.test.utils import common_texts\n",
        "from gensim.models import FastText\n",
        "\n",
        "model  = FastText('peter.txt', vector_size=4, window=3, min_count=1, epochs=10)"
      ]
    },
    {
      "cell_type": "code",
      "source": [
        "sim_score = model.wv.similarity('peter', 'wendy')"
      ],
      "metadata": {
        "id": "FUkzvmkhzISa"
      },
      "execution_count": null,
      "outputs": []
    },
    {
      "cell_type": "code",
      "source": [
        "print(sim_score)"
      ],
      "metadata": {
        "colab": {
          "base_uri": "https://localhost:8080/"
        },
        "id": "PL5zzk-_1zUW",
        "outputId": "8286057f-a005-42f8-ef76-4a2c5cf7a0dd"
      },
      "execution_count": null,
      "outputs": [
        {
          "output_type": "stream",
          "name": "stdout",
          "text": [
            "0.4592452\n"
          ]
        }
      ]
    },
    {
      "cell_type": "code",
      "source": [
        "sim_score = model.wv.similarity('wendy', 'judy')"
      ],
      "metadata": {
        "id": "8sRHsEzH1LNG"
      },
      "execution_count": null,
      "outputs": []
    },
    {
      "cell_type": "code",
      "source": [
        "sim_score = model.wv.similarity('peter', 'hook')"
      ],
      "metadata": {
        "id": "VEvjxfHA1hOO"
      },
      "execution_count": null,
      "outputs": []
    },
    {
      "cell_type": "code",
      "source": [
        "print(sim_score)"
      ],
      "metadata": {
        "colab": {
          "base_uri": "https://localhost:8080/"
        },
        "id": "gRmPMojm1C_Z",
        "outputId": "e4518d0a-166d-49e5-ceb4-b4055d2b4e2e"
      },
      "execution_count": null,
      "outputs": [
        {
          "output_type": "stream",
          "name": "stdout",
          "text": [
            "0.043825686\n"
          ]
        }
      ]
    },
    {
      "cell_type": "code",
      "source": [
        "sim_score = model.wv.similarity('peter pan', 'tinker bell')"
      ],
      "metadata": {
        "id": "Xt45qDPO3YbW"
      },
      "execution_count": null,
      "outputs": []
    },
    {
      "source": [
        "find_similar_to = 'peter'\n",
        "\n",
        "# Assuming your FastText model is loaded as 'model'\n",
        "for similar_word, similarity in model.wv.most_similar(find_similar_to):\n",
        "    print(\"Word: {0}, Similarity: {1:.2f}\".format(similar_word, similarity))\n"
      ],
      "cell_type": "code",
      "metadata": {
        "colab": {
          "base_uri": "https://localhost:8080/"
        },
        "id": "EWkb5lwA7S1u",
        "outputId": "288e1919-d012-4fa3-d084-0c5b05648f1c"
      },
      "execution_count": null,
      "outputs": [
        {
          "output_type": "stream",
          "name": "stdout",
          "text": [
            "Word: r, Similarity: 0.96\n",
            "Word: p, Similarity: 0.69\n",
            "Word: ., Similarity: 0.56\n",
            "Word: t, Similarity: -0.43\n",
            "Word: x, Similarity: -0.62\n",
            "Word: e, Similarity: -0.93\n"
          ]
        }
      ]
    },
    {
      "cell_type": "code",
      "source": [
        "for similar_word, similarity in model.wv.most_similar(find_similar_to):\n",
        "    print(f\"Word: {similar_word}, Similarity: {similarity:.2f}\")"
      ],
      "metadata": {
        "colab": {
          "base_uri": "https://localhost:8080/"
        },
        "id": "ZLmyYq-Z7iq-",
        "outputId": "72e68f7c-012b-4bb8-eb3f-40e1ab944272"
      },
      "execution_count": null,
      "outputs": [
        {
          "output_type": "stream",
          "name": "stdout",
          "text": [
            "Word: r, Similarity: 0.96\n",
            "Word: p, Similarity: 0.69\n",
            "Word: ., Similarity: 0.56\n",
            "Word: t, Similarity: -0.43\n",
            "Word: x, Similarity: -0.62\n",
            "Word: e, Similarity: -0.93\n"
          ]
        }
      ]
    },
    {
      "cell_type": "code",
      "source": [
        "print(sim_score)"
      ],
      "metadata": {
        "colab": {
          "base_uri": "https://localhost:8080/"
        },
        "id": "z03dHHvh3gpA",
        "outputId": "90217f91-6210-4b09-fcf1-76d8c90a85e1"
      },
      "execution_count": null,
      "outputs": [
        {
          "output_type": "stream",
          "name": "stdout",
          "text": [
            "-0.2022972\n"
          ]
        }
      ]
    },
    {
      "cell_type": "markdown",
      "source": [
        "## peter, wendy 0.45\n",
        "## peter, hook 0.04\n",
        "\n",
        "### peter, wendy 유사도 높음 : 관련성 높음\n",
        "### peter, hook 유사도 낮음 : 관련성 낮음"
      ],
      "metadata": {
        "id": "hhzjij3V1JuN"
      }
    },
    {
      "cell_type": "code",
      "source": [
        "from google.colab import drive\n",
        "drive.mount('/content/drive/')"
      ],
      "metadata": {
        "colab": {
          "base_uri": "https://localhost:8080/"
        },
        "id": "iRXWsL6C5yZG",
        "outputId": "9b2b76e4-e877-4f9b-f6ab-adf5b6bac058"
      },
      "execution_count": null,
      "outputs": [
        {
          "output_type": "stream",
          "name": "stdout",
          "text": [
            "Mounted at /content/drive/\n"
          ]
        }
      ]
    },
    {
      "cell_type": "code",
      "source": [
        "from gensim.models import KeyedVectors\n",
        "\n",
        "model_kr = KeyedVectors.load_word2vec_format('/content/drive/MyDrive/Colab Notebooks/wiki.ko.vec') #구글 드라이브에서 파일 경로 복사 후 붙여넣으세요."
      ],
      "metadata": {
        "id": "7zBjjN6p5sXe"
      },
      "execution_count": null,
      "outputs": []
    },
    {
      "cell_type": "code",
      "source": [
        "find_similar_to = '노력'\n",
        "\n",
        "for similar_word in model_kr.similar_by_word(find_similar_to):\n",
        "    print(\"Word: {0}, Similarity: {1:.2f}\".format(\n",
        "        similar_word[0], similar_word[1]\n",
        "    ))"
      ],
      "metadata": {
        "colab": {
          "base_uri": "https://localhost:8080/"
        },
        "id": "bQfawTLk6uid",
        "outputId": "96322af3-5a41-4aa2-e982-b3405f36d7c0"
      },
      "execution_count": null,
      "outputs": [
        {
          "output_type": "stream",
          "name": "stdout",
          "text": [
            "Word: 노력함, Similarity: 0.80\n",
            "Word: 노력중, Similarity: 0.75\n",
            "Word: 노력만, Similarity: 0.72\n",
            "Word: 노력과, Similarity: 0.71\n",
            "Word: 노력의, Similarity: 0.69\n",
            "Word: 노력가, Similarity: 0.69\n",
            "Word: 노력이나, Similarity: 0.69\n",
            "Word: 노력없이, Similarity: 0.68\n",
            "Word: 노력맨, Similarity: 0.68\n",
            "Word: 노력보다는, Similarity: 0.68\n"
          ]
        }
      ]
    },
    {
      "cell_type": "code",
      "source": [
        "find_similar_to = 'imf'\n",
        "\n",
        "for similar_word in model_kr.similar_by_word(find_similar_to):\n",
        "    print(\"Word: {0}, Similarity: {1:.2f}\".format(\n",
        "        similar_word[0], similar_word[1]\n",
        "    ))"
      ],
      "metadata": {
        "colab": {
          "base_uri": "https://localhost:8080/"
        },
        "id": "NjguLRDM7nuV",
        "outputId": "36e497e7-2402-4de7-debd-6b670351c1c6"
      },
      "execution_count": null,
      "outputs": [
        {
          "output_type": "stream",
          "name": "stdout",
          "text": [
            "Word: 구제금융, Similarity: 0.81\n",
            "Word: 구제금융으로, Similarity: 0.79\n",
            "Word: 구제금융사건, Similarity: 0.78\n",
            "Word: 구제금융을, Similarity: 0.78\n",
            "Word: 구제금융사건의, Similarity: 0.78\n",
            "Word: 구제금융에, Similarity: 0.78\n",
            "Word: 구제금융사건을, Similarity: 0.78\n",
            "Word: 구제금융사건이, Similarity: 0.77\n",
            "Word: 외환위기와, Similarity: 0.76\n",
            "Word: 외환위기의, Similarity: 0.76\n"
          ]
        }
      ]
    },
    {
      "cell_type": "code",
      "source": [
        "similarities = model_kr.most_similar(positive=['동물', '육식동물'], negative=['사람'])\n",
        "print(similarities)"
      ],
      "metadata": {
        "colab": {
          "base_uri": "https://localhost:8080/"
        },
        "id": "kEe4OoJp68Bd",
        "outputId": "63e3999e-2371-4ec8-96e2-6b1cb8c8c266"
      },
      "execution_count": null,
      "outputs": [
        {
          "output_type": "stream",
          "name": "stdout",
          "text": [
            "[('초식동물', 0.7804122567176819), ('거대동물', 0.7547270655632019), ('육식동물의', 0.7547166347503662), ('유두동물', 0.753511369228363), ('반추동물', 0.7470757961273193), ('독동물', 0.7466291785240173), ('육상동물', 0.746031641960144), ('유즐동물', 0.7450903654098511), ('극피동물', 0.7449344396591187), ('복모동물', 0.742434561252594)]\n"
          ]
        }
      ]
    },
    {
      "cell_type": "code",
      "source": [
        "similarities = model_kr.most_similar(positive=['동물', '육식동물'])\n",
        "print(similarities)"
      ],
      "metadata": {
        "colab": {
          "base_uri": "https://localhost:8080/"
        },
        "id": "qBIqp_jt8MOf",
        "outputId": "74ea8305-46c8-4459-e35a-30cdc1c416c7"
      },
      "execution_count": null,
      "outputs": [
        {
          "output_type": "stream",
          "name": "stdout",
          "text": [
            "[('초식동물', 0.913037896156311), ('독동물', 0.8848600387573242), ('동물중', 0.8789364099502563), ('육식동물의', 0.8787410855293274), ('유두동물', 0.8701434135437012), ('유즐동물', 0.8699479699134827), ('복모동물', 0.8636951446533203), ('반추동물', 0.8608629107475281), ('새예동물', 0.8581357002258301), ('극피동물', 0.8563082814216614)]\n"
          ]
        }
      ]
    }
  ]
}