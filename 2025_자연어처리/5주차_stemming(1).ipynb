{
  "nbformat": 4,
  "nbformat_minor": 0,
  "metadata": {
    "colab": {
      "provenance": []
    },
    "kernelspec": {
      "name": "python3",
      "display_name": "Python 3"
    },
    "language_info": {
      "name": "python"
    }
  },
  "cells": [
    {
      "cell_type": "code",
      "execution_count": null,
      "metadata": {
        "colab": {
          "base_uri": "https://localhost:8080/"
        },
        "id": "O_pr9TyLmZ47",
        "outputId": "196cc0ed-9287-4965-a282-44d984f1bb7f"
      },
      "outputs": [
        {
          "output_type": "stream",
          "name": "stdout",
          "text": [
            "obsess obsess\n",
            "standard standard\n",
            "nation nation\n",
            "absent absent\n",
            "tribal tribalic\n"
          ]
        }
      ],
      "source": [
        "from nltk.stem import PorterStemmer\n",
        "stemmer = PorterStemmer()\n",
        "\n",
        "print(stemmer.stem('obsesses'), stemmer.stem('obsessed'))\n",
        "print(stemmer.stem('standardizes'), stemmer.stem('standardization'))\n",
        "print(stemmer.stem('national'), stemmer.stem('nation'))\n",
        "print(stemmer.stem('absentness'), stemmer.stem('absently'))\n",
        "print(stemmer.stem('tribalical'), stemmer.stem('tribalicalized'))"
      ]
    },
    {
      "cell_type": "code",
      "source": [
        "from nltk.stem import PorterStemmer\n",
        "\n",
        "def 어간_추출(단어_리스트):\n",
        "  stemmer = PorterStemmer()  # PorterStemmer 객체 생성\n",
        "  어간_리스트 = [stemmer.stem(단어) for 단어 in 단어_리스트]  # 각 단어의 어간 추출\n",
        "  return 어간_리스트\n",
        "\n",
        "# 예제 단어 리스트\n",
        "단어_리스트 = ['obesses', 'obssesed', 'standardizes', 'standardization',\n",
        "            'national', 'nation', 'absentness', 'absently',\n",
        "            'tribalical', 'tribalicalized']\n",
        "\n",
        "# 어간 추출 함수 호출\n",
        "어간_리스트 = 어간_추출(단어_리스트)\n",
        "\n",
        "# 결과 출력\n",
        "for i in range(0, len(단어_리스트), 2):\n",
        "  print(f\"{단어_리스트[i]}: {어간_리스트[i]}, {단어_리스트[i+1]}: {어간_리스트[i+1]}\")"
      ],
      "metadata": {
        "colab": {
          "base_uri": "https://localhost:8080/"
        },
        "id": "gRkjU9tHoKkl",
        "outputId": "58b5f862-aead-489f-a5d6-a2e33a7ca923"
      },
      "execution_count": null,
      "outputs": [
        {
          "output_type": "stream",
          "name": "stdout",
          "text": [
            "obesses: obess, obssesed: obsses\n",
            "standardizes: standard, standardization: standard\n",
            "national: nation, nation: nation\n",
            "absentness: absent, absently: absent\n",
            "tribalical: tribal, tribalicalized: tribalic\n"
          ]
        }
      ]
    },
    {
      "cell_type": "code",
      "source": [
        "from nltk.stem import PorterStemmer\n",
        "\n",
        "def extract_stems(word_list):\n",
        "  stemmer = PorterStemmer()  # Create a PorterStemmer object\n",
        "  stems = [stemmer.stem(word) for word in word_list]  # Extract stems for each word\n",
        "  return stems\n",
        "\n",
        "# Example word list\n",
        "word_list = ['obesses', 'obssesed', 'standardizes', 'standardization',\n",
        "            'national', 'nation', 'absentness', 'absently',\n",
        "            'tribalical', 'tribalicalized']\n",
        "\n",
        "# Call the stem extraction function\n",
        "stems = extract_stems(word_list)\n",
        "\n",
        "# Print the results\n",
        "for i in range(0, len(word_list), 2):\n",
        "  print(f\"{word_list[i]}: {stems[i]}, {word_list[i+1]}: {stems[i+1]}\")"
      ],
      "metadata": {
        "colab": {
          "base_uri": "https://localhost:8080/"
        },
        "id": "MOHZx77ooZT9",
        "outputId": "d4b18852-a3ea-4383-fb1e-55acf84158db"
      },
      "execution_count": null,
      "outputs": [
        {
          "output_type": "stream",
          "name": "stdout",
          "text": [
            "obesses: obess, obssesed: obsses\n",
            "standardizes: standard, standardization: standard\n",
            "national: nation, nation: nation\n",
            "absentness: absent, absently: absent\n",
            "tribalical: tribal, tribalicalized: tribalic\n"
          ]
        }
      ]
    },
    {
      "cell_type": "code",
      "source": [
        "# 랭커스터 어간 추출\n",
        "from nltk.stem import LancasterStemmer\n",
        "stemmer = LancasterStemmer()\n",
        "\n",
        "print(stemmer.stem('obsesses'), stemmer.stem('obsessed'))\n",
        "print(stemmer.stem('standardizes'), stemmer.stem('standardization'))\n",
        "print(stemmer.stem('national'), stemmer.stem('nation'))\n",
        "print(stemmer.stem('absentness'), stemmer.stem('absently'))\n",
        "print(stemmer.stem('tribalical'), stemmer.stem('tribalicalized'))"
      ],
      "metadata": {
        "colab": {
          "base_uri": "https://localhost:8080/"
        },
        "id": "7DQvuFvCo6cC",
        "outputId": "f259d093-8f38-4c71-ffcb-71782b8eb5b5"
      },
      "execution_count": null,
      "outputs": [
        {
          "output_type": "stream",
          "name": "stdout",
          "text": [
            "obsess obsess\n",
            "standard standard\n",
            "nat nat\n",
            "abs abs\n",
            "trib trib\n"
          ]
        }
      ]
    },
    {
      "cell_type": "code",
      "source": [
        "import nltk\n",
        "nltk.download('wordnet')\n",
        "\n",
        "from nltk.stem import WordNetLemmatizer\n",
        "lemma = WordNetLemmatizer()\n",
        "\n",
        "print(lemma.lemmatize('obsesses'), lemma.lemmatize('obsessed'))\n",
        "print(lemma.lemmatize('standardizes'), lemma.lemmatize('standardization'))\n",
        "print(lemma.lemmatize('national'), lemma.lemmatize('nation'))\n",
        "print(lemma.lemmatize('absentness'), lemma.lemmatize('absently'))\n",
        "print(lemma.lemmatize('tribalical'), lemma.lemmatize('tribalicalized'))"
      ],
      "metadata": {
        "colab": {
          "base_uri": "https://localhost:8080/"
        },
        "id": "9H6P4Cu_pxOL",
        "outputId": "24129514-fbd1-4d7f-c44a-19ebcd7c160f"
      },
      "execution_count": null,
      "outputs": [
        {
          "output_type": "stream",
          "name": "stderr",
          "text": [
            "[nltk_data] Downloading package wordnet to /root/nltk_data...\n",
            "[nltk_data]   Package wordnet is already up-to-date!\n"
          ]
        },
        {
          "output_type": "stream",
          "name": "stdout",
          "text": [
            "obsesses obsessed\n",
            "standardizes standardization\n",
            "national nation\n",
            "absentness absently\n",
            "tribalical tribalicalized\n"
          ]
        }
      ]
    },
    {
      "cell_type": "code",
      "source": [
        "print(lemma.lemmatize('obsesses', 'v'), lemma.lemmatize('obsessed', 'a'))\n",
        "print(lemma.lemmatize('standardizes', 'v'), lemma.lemmatize('standardization', 'n'))\n",
        "print(lemma.lemmatize('national', 'a'), lemma.lemmatize('nation', 'n'))\n",
        "print(lemma.lemmatize('absentness', 'n'), lemma.lemmatize('absently', 'r'))\n",
        "print(lemma.lemmatize('tribalical', 'a'), lemma.lemmatize('tribalicalized', 'v'))"
      ],
      "metadata": {
        "colab": {
          "base_uri": "https://localhost:8080/"
        },
        "id": "ZVHxoBFnqy0j",
        "outputId": "8129761d-1c19-4fab-fc42-9090bb98cfee"
      },
      "execution_count": null,
      "outputs": [
        {
          "output_type": "stream",
          "name": "stdout",
          "text": [
            "obsess obsessed\n",
            "standardize standardization\n",
            "national nation\n",
            "absentness absently\n",
            "tribalical tribalicalized\n"
          ]
        }
      ]
    }
  ]
}