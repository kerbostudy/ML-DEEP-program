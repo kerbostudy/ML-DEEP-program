{
  "nbformat": 4,
  "nbformat_minor": 0,
  "metadata": {
    "colab": {
      "provenance": []
    },
    "kernelspec": {
      "name": "python3",
      "display_name": "Python 3"
    },
    "language_info": {
      "name": "python"
    }
  },
  "cells": [
    {
      "cell_type": "markdown",
      "source": [
        "#### KNN(K-Nearest Neighbors)"
      ],
      "metadata": {
        "id": "Vn_0pW3Ial4S"
      }
    },
    {
      "cell_type": "code",
      "source": [
        "from google.colab import drive\n",
        "drive.mount('/content/drive')"
      ],
      "metadata": {
        "colab": {
          "base_uri": "https://localhost:8080/"
        },
        "id": "ShKVn-d_KqrC",
        "outputId": "20d10ff8-47f8-4a29-b843-7ff31e038785"
      },
      "execution_count": 1,
      "outputs": [
        {
          "output_type": "stream",
          "name": "stdout",
          "text": [
            "Mounted at /content/drive\n"
          ]
        }
      ]
    },
    {
      "cell_type": "markdown",
      "source": [
        "#### import library"
      ],
      "metadata": {
        "id": "DL7BCPJ6v1AU"
      }
    },
    {
      "cell_type": "code",
      "execution_count": 9,
      "metadata": {
        "id": "w7htuCX3Tii8"
      },
      "outputs": [],
      "source": [
        "# library & data\n",
        "import numpy as np\n",
        "import pandas as pd\n",
        "import matplotlib.pyplot as plt\n",
        "from sklearn import metrics\n",
        "# from sklearn.datasets import load_iris\n",
        "# iris = load_iris()\n",
        "\n",
        "# column of dataset\n",
        "#names = ['Sepal.Length', 'Sepal.Width', 'Petal.Length', 'Petal.Width', 'Species']\n",
        "#dataset = pd.read_csv('/content/dmu_data/Iris.csv')\n",
        "dataset = pd.read_csv('/content/drive/MyDrive/머신러닝/Data/iris.csv')"
      ]
    },
    {
      "cell_type": "markdown",
      "source": [
        "#### search of data"
      ],
      "metadata": {
        "id": "1Hz49vD9vuwg"
      }
    },
    {
      "cell_type": "code",
      "source": [
        "dataset\n",
        "#print(dataset)\n",
        "#dataset.info()\n",
        "#dataset.describe()\n",
        "#dataset.head(5)\n",
        "dataset.tail()\n",
        "dataset.columns\n",
        "#dataset.shape\n",
        "#dataset.dtypes\n",
        "# dataset.isnull().sum()"
      ],
      "metadata": {
        "colab": {
          "base_uri": "https://localhost:8080/"
        },
        "id": "gvNfaV1ft6Fs",
        "outputId": "f738643d-7600-4920-bd70-a8f9394466b9"
      },
      "execution_count": 10,
      "outputs": [
        {
          "output_type": "execute_result",
          "data": {
            "text/plain": [
              "Index(['sepal.length', 'sepal.width', 'petal.length', 'petal.width',\n",
              "       'variety'],\n",
              "      dtype='object')"
            ]
          },
          "metadata": {},
          "execution_count": 10
        }
      ]
    },
    {
      "cell_type": "markdown",
      "source": [
        "null값이 없는지 확인 / 있다면 결측값 처리"
      ],
      "metadata": {
        "id": "UIARlpChJ6kN"
      }
    },
    {
      "cell_type": "code",
      "source": [
        "dataset.isnull().sum()"
      ],
      "metadata": {
        "colab": {
          "base_uri": "https://localhost:8080/",
          "height": 241
        },
        "id": "nYQHdWbHLX4u",
        "outputId": "9d6708ad-000e-4d0a-9458-63f90de196e5"
      },
      "execution_count": 11,
      "outputs": [
        {
          "output_type": "execute_result",
          "data": {
            "text/plain": [
              "sepal.length    0\n",
              "sepal.width     0\n",
              "petal.length    0\n",
              "petal.width     0\n",
              "variety         0\n",
              "dtype: int64"
            ],
            "text/html": [
              "<div>\n",
              "<style scoped>\n",
              "    .dataframe tbody tr th:only-of-type {\n",
              "        vertical-align: middle;\n",
              "    }\n",
              "\n",
              "    .dataframe tbody tr th {\n",
              "        vertical-align: top;\n",
              "    }\n",
              "\n",
              "    .dataframe thead th {\n",
              "        text-align: right;\n",
              "    }\n",
              "</style>\n",
              "<table border=\"1\" class=\"dataframe\">\n",
              "  <thead>\n",
              "    <tr style=\"text-align: right;\">\n",
              "      <th></th>\n",
              "      <th>0</th>\n",
              "    </tr>\n",
              "  </thead>\n",
              "  <tbody>\n",
              "    <tr>\n",
              "      <th>sepal.length</th>\n",
              "      <td>0</td>\n",
              "    </tr>\n",
              "    <tr>\n",
              "      <th>sepal.width</th>\n",
              "      <td>0</td>\n",
              "    </tr>\n",
              "    <tr>\n",
              "      <th>petal.length</th>\n",
              "      <td>0</td>\n",
              "    </tr>\n",
              "    <tr>\n",
              "      <th>petal.width</th>\n",
              "      <td>0</td>\n",
              "    </tr>\n",
              "    <tr>\n",
              "      <th>variety</th>\n",
              "      <td>0</td>\n",
              "    </tr>\n",
              "  </tbody>\n",
              "</table>\n",
              "</div><br><label><b>dtype:</b> int64</label>"
            ]
          },
          "metadata": {},
          "execution_count": 11
        }
      ]
    },
    {
      "cell_type": "markdown",
      "source": [
        "### X와 y(target) 값 분리"
      ],
      "metadata": {
        "id": "QHT61RNJKMlj"
      }
    },
    {
      "cell_type": "code",
      "source": [
        "# X와 y(target) 값 분리\n",
        "X = dataset.iloc[0:, :-1].values   # 뒤에서 하나를 뺀 값을 가져와서 X에 저장\n",
        "y = dataset.iloc[:,  4].values     # 열은 앞에서 다섯 번째 값만 가져와서 y에 저장\n",
        "\n",
        "#X.shape\n",
        "#X\n",
        "#y.shape\n",
        "#y\n",
        "#print(X)\n",
        "print(y)"
      ],
      "metadata": {
        "id": "vcE5QCardoGe",
        "colab": {
          "base_uri": "https://localhost:8080/"
        },
        "outputId": "0f5b53d8-aef6-4576-b706-5dd5c831d187"
      },
      "execution_count": 12,
      "outputs": [
        {
          "output_type": "stream",
          "name": "stdout",
          "text": [
            "['Setosa' 'Setosa' 'Setosa' 'Setosa' 'Setosa' 'Setosa' 'Setosa' 'Setosa'\n",
            " 'Setosa' 'Setosa' 'Setosa' 'Setosa' 'Setosa' 'Setosa' 'Setosa' 'Setosa'\n",
            " 'Setosa' 'Setosa' 'Setosa' 'Setosa' 'Setosa' 'Setosa' 'Setosa' 'Setosa'\n",
            " 'Setosa' 'Setosa' 'Setosa' 'Setosa' 'Setosa' 'Setosa' 'Setosa' 'Setosa'\n",
            " 'Setosa' 'Setosa' 'Setosa' 'Setosa' 'Setosa' 'Setosa' 'Setosa' 'Setosa'\n",
            " 'Setosa' 'Setosa' 'Setosa' 'Setosa' 'Setosa' 'Setosa' 'Setosa' 'Setosa'\n",
            " 'Setosa' 'Setosa' 'Versicolor' 'Versicolor' 'Versicolor' 'Versicolor'\n",
            " 'Versicolor' 'Versicolor' 'Versicolor' 'Versicolor' 'Versicolor'\n",
            " 'Versicolor' 'Versicolor' 'Versicolor' 'Versicolor' 'Versicolor'\n",
            " 'Versicolor' 'Versicolor' 'Versicolor' 'Versicolor' 'Versicolor'\n",
            " 'Versicolor' 'Versicolor' 'Versicolor' 'Versicolor' 'Versicolor'\n",
            " 'Versicolor' 'Versicolor' 'Versicolor' 'Versicolor' 'Versicolor'\n",
            " 'Versicolor' 'Versicolor' 'Versicolor' 'Versicolor' 'Versicolor'\n",
            " 'Versicolor' 'Versicolor' 'Versicolor' 'Versicolor' 'Versicolor'\n",
            " 'Versicolor' 'Versicolor' 'Versicolor' 'Versicolor' 'Versicolor'\n",
            " 'Versicolor' 'Versicolor' 'Versicolor' 'Versicolor' 'Versicolor'\n",
            " 'Versicolor' 'Virginica' 'Virginica' 'Virginica' 'Virginica' 'Virginica'\n",
            " 'Virginica' 'Virginica' 'Virginica' 'Virginica' 'Virginica' 'Virginica'\n",
            " 'Virginica' 'Virginica' 'Virginica' 'Virginica' 'Virginica' 'Virginica'\n",
            " 'Virginica' 'Virginica' 'Virginica' 'Virginica' 'Virginica' 'Virginica'\n",
            " 'Virginica' 'Virginica' 'Virginica' 'Virginica' 'Virginica' 'Virginica'\n",
            " 'Virginica' 'Virginica' 'Virginica' 'Virginica' 'Virginica' 'Virginica'\n",
            " 'Virginica' 'Virginica' 'Virginica' 'Virginica' 'Virginica' 'Virginica'\n",
            " 'Virginica' 'Virginica' 'Virginica' 'Virginica' 'Virginica' 'Virginica'\n",
            " 'Virginica' 'Virginica' 'Virginica']\n"
          ]
        }
      ]
    },
    {
      "cell_type": "code",
      "source": [
        "set(y)"
      ],
      "metadata": {
        "colab": {
          "base_uri": "https://localhost:8080/"
        },
        "id": "RMpzFib7KDJm",
        "outputId": "e853d8cb-4c94-45f3-a837-af29348b1786"
      },
      "execution_count": 13,
      "outputs": [
        {
          "output_type": "execute_result",
          "data": {
            "text/plain": [
              "{'Setosa', 'Versicolor', 'Virginica'}"
            ]
          },
          "metadata": {},
          "execution_count": 13
        }
      ]
    },
    {
      "cell_type": "markdown",
      "source": [
        "class 3개임을 확인"
      ],
      "metadata": {
        "id": "rVTNJxvsKYYI"
      }
    },
    {
      "cell_type": "markdown",
      "source": [
        "#### 기존에 데이터 split 은 training 80 % / test 20 % -> training dataset : 70% / test dataset : 30%  "
      ],
      "metadata": {
        "id": "7k2_xyqjxvap"
      }
    },
    {
      "cell_type": "code",
      "source": [
        "from sklearn.model_selection import train_test_split\n",
        "X_train, X_test, y_train, y_test = train_test_split(X, y, test_size=0.30)   # test dataset 20% 사용\n",
        "\n",
        "#X_train.shape\n",
        "X_test.shape\n",
        "#y_train.shape\n",
        "#y_test.shape\n"
      ],
      "metadata": {
        "colab": {
          "base_uri": "https://localhost:8080/"
        },
        "id": "3INfcSLMwKhJ",
        "outputId": "2141a8cc-1b63-4df7-e32e-63b586271449"
      },
      "execution_count": 14,
      "outputs": [
        {
          "output_type": "execute_result",
          "data": {
            "text/plain": [
              "(45, 4)"
            ]
          },
          "metadata": {},
          "execution_count": 14
        }
      ]
    },
    {
      "cell_type": "markdown",
      "source": [
        "데이터 스케일링 -> StandardScaler을 통해 서로 다른 변수의 값 범위를 일정한 수준으로 맞춰주기"
      ],
      "metadata": {
        "id": "e6dLtFsMKceT"
      }
    },
    {
      "cell_type": "code",
      "source": [
        "# Data Standardization(표준화) : Feature의 범위가 다른 경우에만 사용\n",
        "from sklearn.preprocessing import StandardScaler\n",
        "s = StandardScaler()              # 특성 스케일링(scaling), 평균이 0, 표준편차가 1이 되도록 변환\n",
        "s.fit(X_train)        ## 교과서를 변경한 부분\n",
        "\n",
        "X_train = s.transform(X_train)    # 훈련 데이터를 스케일링 처리\n",
        "X_test = s.transform(X_test)      # 테스트 데이터를 스케일링 처리\n",
        "\n",
        "#X_train\n",
        "X_test\n"
      ],
      "metadata": {
        "colab": {
          "base_uri": "https://localhost:8080/"
        },
        "id": "cQh4lesNyAuG",
        "outputId": "fd8271ff-9b8b-4b5c-8e7d-368822a52532"
      },
      "execution_count": 15,
      "outputs": [
        {
          "output_type": "execute_result",
          "data": {
            "text/plain": [
              "array([[-1.0672403 ,  0.95824302, -1.30104488, -0.8493086 ],\n",
              "       [-1.30745516,  0.06189097, -1.30104488, -1.37776729],\n",
              "       [-0.82702544,  0.95824302, -1.35837166, -1.37776729],\n",
              "       [ 0.37404885, -1.95490113,  0.36143169,  0.33972344],\n",
              "       [-0.94713287,  0.95824302, -1.41569844, -1.37776729],\n",
              "       [-1.66777744, -1.73081311, -1.47302522, -1.24565262],\n",
              "       [-0.58681058,  1.85459506, -1.47302522, -1.11353794],\n",
              "       [-0.46670315, -1.05854908,  0.30410491, -0.05662057],\n",
              "       [-0.58681058,  0.73415501, -1.35837166, -1.11353794],\n",
              "       [-0.22648829, -0.61037306,  0.13212457,  0.0754941 ],\n",
              "       [-1.18734773, -0.16219704, -1.41569844, -1.37776729],\n",
              "       [ 1.33490828,  0.28597899,  0.47608524,  0.20760877],\n",
              "       [-0.10638087, -0.83446107,  0.01747102, -0.05662057],\n",
              "       [ 0.37404885, -0.61037306,  0.53341202,  0.73606745],\n",
              "       [ 0.73437114, -0.16219704,  0.93469947,  0.73606745],\n",
              "       [-1.30745516, -0.16219704, -1.41569844, -1.50988196],\n",
              "       [-1.18734773,  0.06189097, -1.35837166, -1.37776729],\n",
              "       [ 0.974586  ,  0.06189097,  0.47608524,  0.33972344],\n",
              "       [-1.78788487, -0.38628505, -1.41569844, -1.37776729],\n",
              "       [-1.0672403 , -2.40307715, -0.21183609, -0.32084992],\n",
              "       [-0.94713287, -1.28263709, -0.49846999, -0.18873524],\n",
              "       [ 0.73437114, -0.16219704,  0.76271914,  1.0002968 ],\n",
              "       [-1.30745516,  0.73415501, -1.12906455, -1.37776729],\n",
              "       [-0.10638087, -0.83446107,  0.70539236,  0.86818213],\n",
              "       [ 0.61426371, -0.61037306,  0.99202625,  1.26452614],\n",
              "       [ 0.37404885, -0.38628505,  0.24677813,  0.0754941 ],\n",
              "       [ 0.49415628, -0.38628505,  0.99202625,  0.73606745],\n",
              "       [ 0.49415628, -1.28263709,  0.64806558,  0.86818213],\n",
              "       [ 1.69523057, -0.38628505,  1.3933137 ,  0.73606745],\n",
              "       [ 0.974586  ,  0.06189097,  0.30410491,  0.20760877],\n",
              "       [-0.58681058,  0.73415501, -1.2437181 , -1.37776729],\n",
              "       [ 0.73437114, -0.16219704,  1.10667981,  1.26452614],\n",
              "       [ 2.17566029, -1.05854908,  1.73727437,  1.39664081],\n",
              "       [ 0.974586  ,  0.06189097,  0.99202625,  1.52875548],\n",
              "       [ 0.01372656, -0.16219704,  0.70539236,  0.73606745],\n",
              "       [-0.34659572, -0.38628505, -0.15450932,  0.0754941 ],\n",
              "       [-0.22648829, -1.05854908, -0.21183609, -0.32084992],\n",
              "       [ 0.37404885,  0.73415501,  0.87737269,  1.39664081],\n",
              "       [-1.0672403 ,  0.95824302, -1.47302522, -1.24565262],\n",
              "       [-1.54767001,  0.28597899, -1.41569844, -1.37776729],\n",
              "       [-0.94713287,  1.63050705, -1.12906455, -1.11353794],\n",
              "       [ 1.21480085,  0.06189097,  0.5907388 ,  0.33972344],\n",
              "       [-0.94713287,  0.73415501, -1.35837166, -1.37776729],\n",
              "       [ 0.25394142, -0.16219704,  0.5907388 ,  0.73606745],\n",
              "       [-0.70691801,  1.40641904, -1.35837166, -1.37776729]])"
            ]
          },
          "metadata": {},
          "execution_count": 15
        }
      ]
    },
    {
      "cell_type": "markdown",
      "source": [
        "KNN 모델 생성\n",
        "n_neighbors -> 50개로 생성"
      ],
      "metadata": {
        "id": "BOHChzSlKsyw"
      }
    },
    {
      "cell_type": "code",
      "source": [
        "# create model (KNN)\n",
        "from sklearn.neighbors import KNeighborsClassifier\n",
        "knn = KNeighborsClassifier(n_neighbors=50)          # K의값 :3,5,7,9,11,13,15,17,19......49\n",
        "#y_train = y_train.astype(int)   # fix type error\n",
        "knn.fit(X_train, y_train)"
      ],
      "metadata": {
        "id": "HimnbSIPgTg0"
      },
      "execution_count": null,
      "outputs": []
    },
    {
      "cell_type": "code",
      "source": [
        "# model accuracy\n",
        "from sklearn import metrics\n",
        "y_pred = knn.predict(X_test)\n",
        "#y_test = y_test.astype(int)\n",
        "print(\"Accuracy: {}\".format(metrics.accuracy_score(y_test, y_pred)))"
      ],
      "metadata": {
        "id": "012Hvy4qhcua"
      },
      "execution_count": null,
      "outputs": []
    },
    {
      "cell_type": "markdown",
      "source": [
        "활용 : K(k-nearest neighbors 가장 근접한 이웃의 개수) 값을 조절해가면서 최적의 정확도를 도출할 수 있는 k값을 찾는 코드(loop 통해서)\n",
        "\n",
        "\n",
        "또한, 해당 k값에 대한 accuracy를 시각화를 통해 찾기 편하게 나타냈습니다."
      ],
      "metadata": {
        "id": "s5Fg5dJoQIvh"
      }
    },
    {
      "cell_type": "code",
      "source": [
        "import numpy as np\n",
        "import matplotlib.pyplot as plt\n",
        "from sklearn.neighbors import KNeighborsClassifier\n",
        "from sklearn import metrics\n"
      ],
      "metadata": {
        "id": "J4papy3AP0KD"
      },
      "execution_count": 21,
      "outputs": []
    },
    {
      "cell_type": "code",
      "source": [
        "# k 값은 1에서 50까지 조절해가면서 최적의 accuracy를 탐색\n",
        "k_values = np.arange(2, 51, 1)\n",
        "acc_array = np.zeros(len(k_values))\n",
        "\n",
        "# K values 조절해가며 KNN 수행 및 accuracy 계산\n",
        "# 해당 값들은 각각의 acc_array에 저장\n",
        "for i, k in enumerate(k_values):\n",
        "    classifier = KNeighborsClassifier(n_neighbors=k).fit(X_train, y_train)\n",
        "    y_pred = classifier.predict(X_test)\n",
        "    acc_array[i] = metrics.accuracy_score(y_test, y_pred)\n"
      ],
      "metadata": {
        "id": "OHIf89DMK-Oi"
      },
      "execution_count": 26,
      "outputs": []
    },
    {
      "cell_type": "code",
      "source": [
        "# Max accuracy 찾기 (array배열에 저장 시킨후, 그중에 가장 큰 값 확인)\n",
        "max_acc = np.max(acc_array)\n",
        "best_k = k_values[np.argmax(acc_array)]"
      ],
      "metadata": {
        "id": "bpPHqs2wLD59"
      },
      "execution_count": 27,
      "outputs": []
    },
    {
      "cell_type": "markdown",
      "source": [
        "시각화 -> 내가 k values를 조절해가며 찾았던 accuracy들을 시각화\n",
        "\n",
        "가장 accuracy가 좋은 k value값에 빨간색 하이라이팅 포인트 주기"
      ],
      "metadata": {
        "id": "nQgIQRzoLSim"
      }
    },
    {
      "cell_type": "code",
      "source": [
        "# Plot the accuracy against k_values\n",
        "plt.plot(k_values, acc_array, marker='o', linestyle='-', label='Accuracy')\n",
        "plt.xlabel('Number of Neighbors (K)')\n",
        "plt.ylabel('Accuracy')\n",
        "plt.title('K-Neighbors Classifier Accuracy')\n",
        "plt.grid(True)\n",
        "\n",
        "# 가장 accuracy가 좋은 K value값에 그래프 위에 빨간색 하이라이팅 하기(시각화)\n",
        "plt.plot(best_k, max_acc, 'ro', label=f'Max Accuracy: {max_acc:.4f} (K={best_k})')\n",
        "plt.legend()\n",
        "plt.show()"
      ],
      "metadata": {
        "colab": {
          "base_uri": "https://localhost:8080/",
          "height": 472
        },
        "id": "OE9yHIlBLRgX",
        "outputId": "75ac824b-935b-4b22-e42d-daea691415ea"
      },
      "execution_count": 28,
      "outputs": [
        {
          "output_type": "display_data",
          "data": {
            "text/plain": [
              "<Figure size 640x480 with 1 Axes>"
            ],
            "image/png": "[encoded data removed]"
          },
          "metadata": {}
        }
      ]
    },
    {
      "cell_type": "code",
      "source": [
        "# best k 값과 그 accuracy 출력하기\n",
        "print(f\"The best K : {best_k}, 해당 accuracy : {max_acc:.4f}\")"
      ],
      "metadata": {
        "colab": {
          "base_uri": "https://localhost:8080/"
        },
        "id": "RzMDIHw1Lfn9",
        "outputId": "5741621b-b54b-4bd8-8df2-03449aeb43d6"
      },
      "execution_count": 29,
      "outputs": [
        {
          "output_type": "stream",
          "name": "stdout",
          "text": [
            "The best K : 4, 해당 accuracy : 0.9556\n"
          ]
        }
      ]
    },
    {
      "cell_type": "markdown",
      "source": [
        "### 최적의 K값은 4이고, 해당 accuracy는 0.9556 입니다."
      ],
      "metadata": {
        "id": "4ZTfpEK4VEM3"
      }
    }
  ]
}