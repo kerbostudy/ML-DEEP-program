{
  "nbformat": 4,
  "nbformat_minor": 0,
  "metadata": {
    "colab": {
      "provenance": []
    },
    "kernelspec": {
      "name": "python3",
      "display_name": "Python 3"
    },
    "language_info": {
      "name": "python"
    }
  },
  "cells": [
    {
      "cell_type": "code",
      "execution_count": 1,
      "metadata": {
        "id": "0qiP4rUShfdl"
      },
      "outputs": [],
      "source": [
        "# 필요한 라이브러리 불러오기\n",
        "import numpy as np\n",
        "import pandas as pd\n",
        "import matplotlib.pyplot as plt\n",
        "from sklearn import datasets, metrics, svm\n",
        "from sklearn.model_selection import train_test_split, GridSearchCV, cross_val_score\n",
        "from sklearn.preprocessing import StandardScaler\n",
        "from sklearn.feature_selection import SelectKBest, f_classif\n",
        "from sklearn.decomposition import PCA\n",
        "from sklearn.ensemble import BaggingClassifier\n",
        "\n",
        "# 1. 데이터 불러오기\n",
        "iris = datasets.load_iris()\n",
        "X = iris.data  # 모든 특성 사용\n",
        "y = iris.target\n",
        "\n",
        "# 학습용, 테스트용 데이터 분리\n",
        "X_train, X_test, y_train, y_test = train_test_split(X, y, test_size=0.2, random_state=42)"
      ]
    },
    {
      "cell_type": "code",
      "source": [
        "# 2. 기본 모델 성능 확인 (하이퍼파라미터 튜닝 전)\n",
        "model = svm.SVC(kernel='rbf', C=1.0, gamma='scale')\n",
        "model.fit(X_train, y_train)\n",
        "y_pred = model.predict(X_test)\n",
        "print(\"기본 모델 정확도: \", metrics.accuracy_score(y_test, y_pred))\n",
        "print(metrics.classification_report(y_test, y_pred))\n"
      ],
      "metadata": {
        "colab": {
          "base_uri": "https://localhost:8080/"
        },
        "id": "56hPwElGrAhU",
        "outputId": "8d062572-08b3-40cf-b7d0-39872076a03d"
      },
      "execution_count": 2,
      "outputs": [
        {
          "output_type": "stream",
          "name": "stdout",
          "text": [
            "기본 모델 정확도:  1.0\n",
            "              precision    recall  f1-score   support\n",
            "\n",
            "           0       1.00      1.00      1.00        10\n",
            "           1       1.00      1.00      1.00         9\n",
            "           2       1.00      1.00      1.00        11\n",
            "\n",
            "    accuracy                           1.00        30\n",
            "   macro avg       1.00      1.00      1.00        30\n",
            "weighted avg       1.00      1.00      1.00        30\n",
            "\n"
          ]
        }
      ]
    },
    {
      "cell_type": "code",
      "source": [
        "#GridSearchCV를 사용해서 하이퍼파라미터 튜닝을 진행했는데 GridSearchCV는 모델의 성능을 최적화하기 위해 하이퍼파라미터 조합을 탐색하는 기법입니다. C(오차 허용도) 와 gamma의 조합을 실험한후 가장 성능이 좋은 모델을 선택하는 방법을 사용했습니다.\n",
        "# 3. 하이퍼파라미터 튜닝 (GridSearchCV 사용)\n",
        "param_grid = {\n",
        "    'C': [0.1, 1, 10, 100],\n",
        "    'gamma': [1, 0.1, 0.01, 0.001],\n",
        "    'kernel': ['rbf']\n",
        "}\n",
        "grid = GridSearchCV(svm.SVC(), param_grid, refit=True, verbose=2)\n",
        "grid.fit(X_train, y_train)\n",
        "y_pred_grid = grid.predict(X_test)\n",
        "print(\"하이퍼파라미터 튜닝 후 정확도: \", metrics.accuracy_score(y_test, y_pred_grid))\n",
        "print(metrics.classification_report(y_test, y_pred_grid))"
      ],
      "metadata": {
        "colab": {
          "base_uri": "https://localhost:8080/"
        },
        "id": "CDuBpV7krEbS",
        "outputId": "536d677c-1de5-4856-9964-94b63d659c3c"
      },
      "execution_count": 3,
      "outputs": [
        {
          "output_type": "stream",
          "name": "stdout",
          "text": [
            "Fitting 5 folds for each of 16 candidates, totalling 80 fits\n",
            "[CV] END .........................C=0.1, gamma=1, kernel=rbf; total time=   0.0s\n",
            "[CV] END .........................C=0.1, gamma=1, kernel=rbf; total time=   0.0s\n",
            "[CV] END .........................C=0.1, gamma=1, kernel=rbf; total time=   0.0s\n",
            "[CV] END .........................C=0.1, gamma=1, kernel=rbf; total time=   0.0s\n",
            "[CV] END .........................C=0.1, gamma=1, kernel=rbf; total time=   0.0s\n",
            "[CV] END .......................C=0.1, gamma=0.1, kernel=rbf; total time=   0.0s\n",
            "[CV] END .......................C=0.1, gamma=0.1, kernel=rbf; total time=   0.0s\n",
            "[CV] END .......................C=0.1, gamma=0.1, kernel=rbf; total time=   0.0s\n",
            "[CV] END .......................C=0.1, gamma=0.1, kernel=rbf; total time=   0.0s\n",
            "[CV] END .......................C=0.1, gamma=0.1, kernel=rbf; total time=   0.0s\n",
            "[CV] END ......................C=0.1, gamma=0.01, kernel=rbf; total time=   0.0s\n",
            "[CV] END ......................C=0.1, gamma=0.01, kernel=rbf; total time=   0.0s\n",
            "[CV] END ......................C=0.1, gamma=0.01, kernel=rbf; total time=   0.0s\n",
            "[CV] END ......................C=0.1, gamma=0.01, kernel=rbf; total time=   0.0s\n",
            "[CV] END ......................C=0.1, gamma=0.01, kernel=rbf; total time=   0.0s\n",
            "[CV] END .....................C=0.1, gamma=0.001, kernel=rbf; total time=   0.0s\n",
            "[CV] END .....................C=0.1, gamma=0.001, kernel=rbf; total time=   0.0s\n",
            "[CV] END .....................C=0.1, gamma=0.001, kernel=rbf; total time=   0.0s\n",
            "[CV] END .....................C=0.1, gamma=0.001, kernel=rbf; total time=   0.0s\n",
            "[CV] END .....................C=0.1, gamma=0.001, kernel=rbf; total time=   0.0s\n",
            "[CV] END ...........................C=1, gamma=1, kernel=rbf; total time=   0.0s\n",
            "[CV] END ...........................C=1, gamma=1, kernel=rbf; total time=   0.0s\n",
            "[CV] END ...........................C=1, gamma=1, kernel=rbf; total time=   0.0s\n",
            "[CV] END ...........................C=1, gamma=1, kernel=rbf; total time=   0.0s\n",
            "[CV] END ...........................C=1, gamma=1, kernel=rbf; total time=   0.0s\n",
            "[CV] END .........................C=1, gamma=0.1, kernel=rbf; total time=   0.0s\n",
            "[CV] END .........................C=1, gamma=0.1, kernel=rbf; total time=   0.0s\n",
            "[CV] END .........................C=1, gamma=0.1, kernel=rbf; total time=   0.0s\n",
            "[CV] END .........................C=1, gamma=0.1, kernel=rbf; total time=   0.0s\n",
            "[CV] END .........................C=1, gamma=0.1, kernel=rbf; total time=   0.0s\n",
            "[CV] END ........................C=1, gamma=0.01, kernel=rbf; total time=   0.0s\n",
            "[CV] END ........................C=1, gamma=0.01, kernel=rbf; total time=   0.0s\n",
            "[CV] END ........................C=1, gamma=0.01, kernel=rbf; total time=   0.0s\n",
            "[CV] END ........................C=1, gamma=0.01, kernel=rbf; total time=   0.0s\n",
            "[CV] END ........................C=1, gamma=0.01, kernel=rbf; total time=   0.0s\n",
            "[CV] END .......................C=1, gamma=0.001, kernel=rbf; total time=   0.0s\n",
            "[CV] END .......................C=1, gamma=0.001, kernel=rbf; total time=   0.0s\n",
            "[CV] END .......................C=1, gamma=0.001, kernel=rbf; total time=   0.0s\n",
            "[CV] END .......................C=1, gamma=0.001, kernel=rbf; total time=   0.0s\n",
            "[CV] END .......................C=1, gamma=0.001, kernel=rbf; total time=   0.0s\n",
            "[CV] END ..........................C=10, gamma=1, kernel=rbf; total time=   0.0s\n",
            "[CV] END ..........................C=10, gamma=1, kernel=rbf; total time=   0.0s\n",
            "[CV] END ..........................C=10, gamma=1, kernel=rbf; total time=   0.0s\n",
            "[CV] END ..........................C=10, gamma=1, kernel=rbf; total time=   0.0s\n",
            "[CV] END ..........................C=10, gamma=1, kernel=rbf; total time=   0.0s\n",
            "[CV] END ........................C=10, gamma=0.1, kernel=rbf; total time=   0.0s\n",
            "[CV] END ........................C=10, gamma=0.1, kernel=rbf; total time=   0.0s\n",
            "[CV] END ........................C=10, gamma=0.1, kernel=rbf; total time=   0.0s\n",
            "[CV] END ........................C=10, gamma=0.1, kernel=rbf; total time=   0.0s\n",
            "[CV] END ........................C=10, gamma=0.1, kernel=rbf; total time=   0.0s\n",
            "[CV] END .......................C=10, gamma=0.01, kernel=rbf; total time=   0.0s\n",
            "[CV] END .......................C=10, gamma=0.01, kernel=rbf; total time=   0.0s\n",
            "[CV] END .......................C=10, gamma=0.01, kernel=rbf; total time=   0.0s\n",
            "[CV] END .......................C=10, gamma=0.01, kernel=rbf; total time=   0.0s\n",
            "[CV] END .......................C=10, gamma=0.01, kernel=rbf; total time=   0.0s\n",
            "[CV] END ......................C=10, gamma=0.001, kernel=rbf; total time=   0.0s\n",
            "[CV] END ......................C=10, gamma=0.001, kernel=rbf; total time=   0.0s\n",
            "[CV] END ......................C=10, gamma=0.001, kernel=rbf; total time=   0.0s\n",
            "[CV] END ......................C=10, gamma=0.001, kernel=rbf; total time=   0.0s\n",
            "[CV] END ......................C=10, gamma=0.001, kernel=rbf; total time=   0.0s\n",
            "[CV] END .........................C=100, gamma=1, kernel=rbf; total time=   0.0s\n",
            "[CV] END .........................C=100, gamma=1, kernel=rbf; total time=   0.0s\n",
            "[CV] END .........................C=100, gamma=1, kernel=rbf; total time=   0.0s\n",
            "[CV] END .........................C=100, gamma=1, kernel=rbf; total time=   0.0s\n",
            "[CV] END .........................C=100, gamma=1, kernel=rbf; total time=   0.0s\n",
            "[CV] END .......................C=100, gamma=0.1, kernel=rbf; total time=   0.0s\n",
            "[CV] END .......................C=100, gamma=0.1, kernel=rbf; total time=   0.0s\n",
            "[CV] END .......................C=100, gamma=0.1, kernel=rbf; total time=   0.0s\n",
            "[CV] END .......................C=100, gamma=0.1, kernel=rbf; total time=   0.0s\n",
            "[CV] END .......................C=100, gamma=0.1, kernel=rbf; total time=   0.0s\n",
            "[CV] END ......................C=100, gamma=0.01, kernel=rbf; total time=   0.0s\n",
            "[CV] END ......................C=100, gamma=0.01, kernel=rbf; total time=   0.0s\n",
            "[CV] END ......................C=100, gamma=0.01, kernel=rbf; total time=   0.0s\n",
            "[CV] END ......................C=100, gamma=0.01, kernel=rbf; total time=   0.0s\n",
            "[CV] END ......................C=100, gamma=0.01, kernel=rbf; total time=   0.0s\n",
            "[CV] END .....................C=100, gamma=0.001, kernel=rbf; total time=   0.0s\n",
            "[CV] END .....................C=100, gamma=0.001, kernel=rbf; total time=   0.0s\n",
            "[CV] END .....................C=100, gamma=0.001, kernel=rbf; total time=   0.0s\n",
            "[CV] END .....................C=100, gamma=0.001, kernel=rbf; total time=   0.0s\n",
            "[CV] END .....................C=100, gamma=0.001, kernel=rbf; total time=   0.0s\n",
            "하이퍼파라미터 튜닝 후 정확도:  1.0\n",
            "              precision    recall  f1-score   support\n",
            "\n",
            "           0       1.00      1.00      1.00        10\n",
            "           1       1.00      1.00      1.00         9\n",
            "           2       1.00      1.00      1.00        11\n",
            "\n",
            "    accuracy                           1.00        30\n",
            "   macro avg       1.00      1.00      1.00        30\n",
            "weighted avg       1.00      1.00      1.00        30\n",
            "\n"
          ]
        }
      ]
    },
    {
      "cell_type": "code",
      "source": [
        "#특성 스케일링은 데이터의 각 특성의 범위를 일관성있게 맞추기 위한 전처리 기법입니다. 이는 주로 거리 기반 알고리즘이나 기울기 기반 학습 알고리즘에서 중요한 역할을 합니다.  .standardscaler는 각 특성의 평균을 0, 표준편차를 1로 맞추어 표준화하는 기법으로.\n",
        "#svm같은 거리 기반 알고리즘에서는 특성의 스케일이 서로 다를 경우 학습이 제대로 이루어지지 않기 때문에, 적용해야 된다고 생각을했고 스케일이 다른 특성들 사이의 차이를 보정함으로써 모델의 성능을 개선할수 있습니다.\n",
        "#단점으로는 원본 데이터의 의미를 왜곡할수 있기 때문에 , 데이터에 따라 적용이 신중해야한다는 점입니다.\n",
        "# 4. 특성 스케일링 (StandardScaler)\n",
        "scaler = StandardScaler()\n",
        "X_train_scaled = scaler.fit_transform(X_train)\n",
        "X_test_scaled = scaler.transform(X_test)\n",
        "\n",
        "model_scaled = svm.SVC(kernel='rbf', C=1.0, gamma='scale')\n",
        "model_scaled.fit(X_train_scaled, y_train)\n",
        "y_pred_scaled = model_scaled.predict(X_test_scaled)\n",
        "print(\"특성 스케일링 후 정확도: \", metrics.accuracy_score(y_test, y_pred_scaled))\n",
        "print(metrics.classification_report(y_test, y_pred_scaled))"
      ],
      "metadata": {
        "colab": {
          "base_uri": "https://localhost:8080/"
        },
        "id": "jn-ybr43rGrf",
        "outputId": "02e8661e-398a-4ab6-f9b4-0ba76582caa5"
      },
      "execution_count": 4,
      "outputs": [
        {
          "output_type": "stream",
          "name": "stdout",
          "text": [
            "특성 스케일링 후 정확도:  1.0\n",
            "              precision    recall  f1-score   support\n",
            "\n",
            "           0       1.00      1.00      1.00        10\n",
            "           1       1.00      1.00      1.00         9\n",
            "           2       1.00      1.00      1.00        11\n",
            "\n",
            "    accuracy                           1.00        30\n",
            "   macro avg       1.00      1.00      1.00        30\n",
            "weighted avg       1.00      1.00      1.00        30\n",
            "\n"
          ]
        }
      ]
    },
    {
      "cell_type": "code",
      "source": [
        "#특성선택은 모델의 성능에 기여하지 않거나 노이즈가 많은 특성을 제거하여 학습속도와 모델의 성능을 개선하는 기법입니다. SelectKBest는 각 특성의 점수를 계산하여 상위k개의 특성을 선택합니다.\n",
        "#이 코드에서는 ANOVA F-검정을 사용해 각 특성이 타겟 변수와 얼마나 관련이 있는지를 계산하고, 상위 두개의 특성을 선택했습니다. 데이터가 고차원일수록 더 적은 특성으로 성능을 유지하거나 개선할 수 있습니다.\n",
        "#단점으로는 지나치게 많은 특성을 제거하면 중요한 정보를 잃을수도 있는데 , 지금의 iris데이터는 4차원이기 때문에, 고차원 데이터에 비해 특성 선택이 크게 유의미하지 않을수 있습니다.\n",
        "#하지만 더 복잡한 데이터셋 예를 들어 100개의 특성이 있는 데이터셋에서는 20~30개의 중요한 특성만 골라내는 것이 모델을 더 간결하고 빠르게 만듭니다.\n",
        "# 5. 특성 선택 (SelectKBest 사용)\n",
        "selector = SelectKBest(f_classif, k=2)  # 중요한 2개의 특성만 선택\n",
        "X_train_selected = selector.fit_transform(X_train, y_train)\n",
        "X_test_selected = selector.transform(X_test)\n",
        "\n",
        "model_selected = svm.SVC(kernel='rbf', C=1.0, gamma='scale')\n",
        "model_selected.fit(X_train_selected, y_train)\n",
        "y_pred_selected = model_selected.predict(X_test_selected)\n",
        "print(\"특성 선택 후 정확도: \", metrics.accuracy_score(y_test, y_pred_selected))\n",
        "print(metrics.classification_report(y_test, y_pred_selected))\n"
      ],
      "metadata": {
        "colab": {
          "base_uri": "https://localhost:8080/"
        },
        "id": "Mdr0jSY5rIqi",
        "outputId": "1713519f-a1ef-46b1-f04f-281b7d597aa9"
      },
      "execution_count": 5,
      "outputs": [
        {
          "output_type": "stream",
          "name": "stdout",
          "text": [
            "특성 선택 후 정확도:  1.0\n",
            "              precision    recall  f1-score   support\n",
            "\n",
            "           0       1.00      1.00      1.00        10\n",
            "           1       1.00      1.00      1.00         9\n",
            "           2       1.00      1.00      1.00        11\n",
            "\n",
            "    accuracy                           1.00        30\n",
            "   macro avg       1.00      1.00      1.00        30\n",
            "weighted avg       1.00      1.00      1.00        30\n",
            "\n"
          ]
        }
      ]
    },
    {
      "cell_type": "code",
      "source": [
        "#PCA는 고차원의 데이터를 더 적은 차원으로 줄이는 기법으로, 데이터 내의 변동성을 최대한 보존하면서 차원을 축소합니다.\n",
        "#여기서는 4차원 데이터를 2차원으로 줄여 시각화 할수 있도록 했습니다. 하지만 iris데이터는 차원이 낮고 데이터의 구조가 단순하기 때문에, 차원 축소가 큰 차이를 만들지 않을수 있습니다.\n",
        "# 6. 차원 축소 (PCA 사용)\n",
        "pca = PCA(n_components=2)\n",
        "X_train_pca = pca.fit_transform(X_train)\n",
        "X_test_pca = pca.transform(X_test)\n",
        "\n",
        "model_pca = svm.SVC(kernel='rbf', C=1.0, gamma='scale')\n",
        "model_pca.fit(X_train_pca, y_train)\n",
        "y_pred_pca = model_pca.predict(X_test_pca)\n",
        "print(\"차원 축소 후 정확도: \", metrics.accuracy_score(y_test, y_pred_pca))\n",
        "print(metrics.classification_report(y_test, y_pred_pca))\n"
      ],
      "metadata": {
        "colab": {
          "base_uri": "https://localhost:8080/"
        },
        "id": "5qfCZ6gBrKyz",
        "outputId": "01b59d09-3d10-460c-c065-20df4c271eb0"
      },
      "execution_count": 6,
      "outputs": [
        {
          "output_type": "stream",
          "name": "stdout",
          "text": [
            "차원 축소 후 정확도:  1.0\n",
            "              precision    recall  f1-score   support\n",
            "\n",
            "           0       1.00      1.00      1.00        10\n",
            "           1       1.00      1.00      1.00         9\n",
            "           2       1.00      1.00      1.00        11\n",
            "\n",
            "    accuracy                           1.00        30\n",
            "   macro avg       1.00      1.00      1.00        30\n",
            "weighted avg       1.00      1.00      1.00        30\n",
            "\n"
          ]
        }
      ]
    },
    {
      "cell_type": "code",
      "source": [
        "#교차검증은 데이터를 여러번 나누어 학습과 테스트를 반복하여, 모델의 일반화 성능을 평가하는 방법입니다. 일반적인 훈련-테스트 분할에서는 한번 나누어서 평가하지만, 교차검증은 데이터를 여러 번 나누어 평가하기 때문에 더 신뢰할 수 있는 결과를 제공합니다.\n",
        "#교차검증은 데이터분할, 반복 학습-검증, 성능평가 순서로 이루어지는데 데이터분할은 데이터를 여러 개의 서브셋으로 나눕니다. 일반적으로 k-fold 교차 검증이 많이 사용되며, 이 방법에서는 데이터를 k개의 폴드로 나눕니다.\n",
        "#다음으로 k개의 폴드 중 한 폴드를 검증 데이터셋으로 사용하고, 나머지 k-1개의 폴드를 학습 데이터셋으로 사용하여 모델을 학습시킵니다. 이를 k번 반복하면서 매번 다른 폴드를 검증데이터셋으로 사용합니다.\n",
        "#교차검증은 모델이 훈련데이터에 과도하게 적합하는 과적합문제를 데이터를 여러 번 나누어 테스트함으로써 모델이 훈련데이터의 특정 부분에 치우치지 않도록하는 장점이 존재하지만 iris데이터는 데이터셋이 충분히 작고, 한번의 분할로도 안정적인 성능이 나오기 때문에 교차검증을 생략하고 단순한 훈련-테스트 분할만으로도 충분할 수 있습니다.\n",
        "# 7. 교차 검증 (Cross-Validation)\n",
        "scores = cross_val_score(svm.SVC(kernel='rbf', C=1.0, gamma='scale'), X_train, y_train, cv=5)\n",
        "print(\"교차 검증 후 정확도 평균: \", scores.mean())\n"
      ],
      "metadata": {
        "colab": {
          "base_uri": "https://localhost:8080/"
        },
        "id": "VMaitEt7rMgb",
        "outputId": "227505c0-d490-4859-ea65-1f93bb264bd7"
      },
      "execution_count": 7,
      "outputs": [
        {
          "output_type": "stream",
          "name": "stdout",
          "text": [
            "교차 검증 후 정확도 평균:  0.95\n"
          ]
        }
      ]
    },
    {
      "cell_type": "code",
      "source": [
        "#Bagging은 여러 모델을 학습시켜 예측 결과를 결합함으로써 모델 성능을 향상시키는 앙상블 기법중 하나입니다. 부트스트랩 샘플링 방식으로 여러 개의 하위 데이터셋을 만들어, 각각의 데이터셋에서 학습한 모델을 결합해 최종 예측을 수행합니다.\n",
        "#부트스트랩 샘플링은 데이터를 복원추출하는 방법으로, 같은 데이터가 여러 번 샘플링 될수 있습니다. 즉, 하나의 서브셋에 동일한 데이터가 중복될수도있고, 어떤 데이터는 서브셋에 포함되지 않을수도 있습니다.\n",
        "#Bagging은 불안전한 모델에 적용하거나 과적합을 방지하거나 데이터 노이즈가 있을 경우 유리하게 작용할수 있는데 iris데이터셋에서는 데이터의 단순성과 SVM 모델의 높은 성능 덕분에 bagging은 굳이 필요하지 않은 기법입니다.\n",
        "#이 데이터셋은 샘플수가 적고 과적합의 위험이 낮아, SVM 하나만으로도 충분히 좋은 성능을 낼수 있습니다.\n",
        "# 8. Bagging을 사용한 앙상블 모델\n",
        "bagging_model = BaggingClassifier(estimator=svm.SVC(kernel='rbf', C=1.0, gamma='scale'), n_estimators=10, random_state=42)\n",
        "bagging_model.fit(X_train, y_train)\n",
        "y_pred_bagging = bagging_model.predict(X_test)\n",
        "print(\"Bagging 후 정확도: \", metrics.accuracy_score(y_test, y_pred_bagging))\n",
        "print(metrics.classification_report(y_test, y_pred_bagging))\n"
      ],
      "metadata": {
        "colab": {
          "base_uri": "https://localhost:8080/"
        },
        "id": "aUl1qCvCrOcA",
        "outputId": "cf39917a-64f2-4502-c31e-c3ae97ae9eee"
      },
      "execution_count": 8,
      "outputs": [
        {
          "output_type": "stream",
          "name": "stdout",
          "text": [
            "Bagging 후 정확도:  1.0\n",
            "              precision    recall  f1-score   support\n",
            "\n",
            "           0       1.00      1.00      1.00        10\n",
            "           1       1.00      1.00      1.00         9\n",
            "           2       1.00      1.00      1.00        11\n",
            "\n",
            "    accuracy                           1.00        30\n",
            "   macro avg       1.00      1.00      1.00        30\n",
            "weighted avg       1.00      1.00      1.00        30\n",
            "\n"
          ]
        }
      ]
    },
    {
      "cell_type": "code",
      "source": [
        "\n",
        "# 9. 결정 경계 시각화 (PCA 이후)\n",
        "def plot_decision_boundary(X, y, model):\n",
        "    h = 0.02\n",
        "    x_min, x_max = X[:, 0].min() - 1, X[:, 0].max() + 1\n",
        "    y_min, y_max = X[:, 1].min() - 1, X[:, 1].max() + 1\n",
        "    xx, yy = np.meshgrid(np.arange(x_min, x_max, h), np.arange(y_min, y_max, h))\n",
        "    Z = model.predict(np.c_[xx.ravel(), yy.ravel()])\n",
        "    Z = Z.reshape(xx.shape)\n",
        "\n",
        "    plt.contourf(xx, yy, Z, alpha=0.8)\n",
        "    plt.scatter(X[:, 0], X[:, 1], c=y, edgecolor='k', marker='o')\n",
        "    plt.xlabel('PCA 1')\n",
        "    plt.ylabel('PCA 2')\n",
        "    plt.title('SVM 결정 경계 (PCA 후)')\n",
        "    plt.show()\n",
        "\n",
        "# PCA 후 결정 경계 시각화\n",
        "plot_decision_boundary(X_train_pca, y_train, model_pca)\n"
      ],
      "metadata": {
        "colab": {
          "base_uri": "https://localhost:8080/",
          "height": 657
        },
        "id": "qiSYBHMorP1f",
        "outputId": "9bed3e44-c0ac-4c1a-cd28-cabe649530a1"
      },
      "execution_count": 9,
      "outputs": [
        {
          "output_type": "stream",
          "name": "stderr",
          "text": [
            "/usr/local/lib/python3.10/dist-packages/IPython/core/pylabtools.py:151: UserWarning: Glyph 44208 (\\N{HANGUL SYLLABLE GYEOL}) missing from current font.\n",
            "  fig.canvas.print_figure(bytes_io, **kw)\n",
            "/usr/local/lib/python3.10/dist-packages/IPython/core/pylabtools.py:151: UserWarning: Glyph 51221 (\\N{HANGUL SYLLABLE JEONG}) missing from current font.\n",
            "  fig.canvas.print_figure(bytes_io, **kw)\n",
            "/usr/local/lib/python3.10/dist-packages/IPython/core/pylabtools.py:151: UserWarning: Glyph 44221 (\\N{HANGUL SYLLABLE GYEONG}) missing from current font.\n",
            "  fig.canvas.print_figure(bytes_io, **kw)\n",
            "/usr/local/lib/python3.10/dist-packages/IPython/core/pylabtools.py:151: UserWarning: Glyph 44228 (\\N{HANGUL SYLLABLE GYE}) missing from current font.\n",
            "  fig.canvas.print_figure(bytes_io, **kw)\n",
            "/usr/local/lib/python3.10/dist-packages/IPython/core/pylabtools.py:151: UserWarning: Glyph 54980 (\\N{HANGUL SYLLABLE HU}) missing from current font.\n",
            "  fig.canvas.print_figure(bytes_io, **kw)\n"
          ]
        },
        {
          "output_type": "display_data",
          "data": {
            "text/plain": [
              "<Figure size 640x480 with 1 Axes>"
            ],
            "image/png": "[encoded data removed]"
          },
          "metadata": {}
        }
      ]
    },
    {
      "cell_type": "markdown",
      "source": [
        "Pca 를 사용해서 4차원의 데이터를 2차원으로 축소했기 때문에 이과정에서 분류에 필요한 중요한 정보가 손실되었을수 있습니다. 그래서 2차원 상에서 나타나는 결정 경계는 고차원 에서와 달리 완벽하게 분류 되지 않는 것처럼 보일수 있습니다."
      ],
      "metadata": {
        "id": "73BxH_Zrr8r3"
      }
    }
  ]
}