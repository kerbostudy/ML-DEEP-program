{
  "nbformat": 4,
  "nbformat_minor": 0,
  "metadata": {
    "colab": {
      "provenance": []
    },
    "kernelspec": {
      "name": "python3",
      "display_name": "Python 3"
    },
    "language_info": {
      "name": "python"
    }
  },
  "cells": [
    {
      "cell_type": "markdown",
      "source": [
        "#### SVM(Support Vector Machine)"
      ],
      "metadata": {
        "id": "Vn_0pW3Ial4S"
      }
    },
    {
      "cell_type": "markdown",
      "source": [
        "#### import library"
      ],
      "metadata": {
        "id": "DL7BCPJ6v1AU"
      }
    },
    {
      "cell_type": "code",
      "execution_count": 101,
      "metadata": {
        "id": "w7htuCX3Tii8"
      },
      "outputs": [],
      "source": [
        "# library\n",
        "import numpy as np\n",
        "import pandas as pd\n",
        "import matplotlib.pyplot as plt\n",
        "#import tensorflow as tf\n",
        "\n",
        "from sklearn import svm\n",
        "from sklearn import metrics\n",
        "from sklearn import datasets\n",
        "from sklearn.model_selection import train_test_split\n",
        "from sklearn.svm import SVC\n",
        "import os\n",
        "\n",
        "#         # 환경경변수를 사용하여 로깅을 제어:\n",
        "#         # 기본-0/ INFO 로그로 필터링:1/ WARNING 로그로 필터:2, Error 로그를 추가로 필터링: 3  설정\n",
        "os.environ['TF_CPP_MIN_LOG_LEVEL'] = '3'\n"
      ]
    },
    {
      "cell_type": "markdown",
      "source": [
        "#### training dataset : 40% / test dataset : 60%  "
      ],
      "metadata": {
        "id": "7k2_xyqjxvap"
      }
    },
    {
      "cell_type": "code",
      "source": [
        "# sklearn에서 제공하는 iris 데이터 호출\n",
        "iris = datasets.load_iris()\n",
        "\n",
        "            # sklearn에서 제공하는 model_selection  패키지에서 제공하는 train_test_split() 메서드를 활용\n",
        "X_train, X_test, y_train, y_test = train_test_split(iris.data, iris.target, test_size=0.2, random_state=42)   # 값을 동일하게\n",
        "\n",
        "X_train.shape\n",
        "#X_test.shape\n",
        "#y_train.shape\n",
        "#y_test.shape\n"
      ],
      "metadata": {
        "colab": {
          "base_uri": "https://localhost:8080/"
        },
        "id": "3INfcSLMwKhJ",
        "outputId": "af4d6206-92f2-4987-faae-6cd0de828f1c"
      },
      "execution_count": 102,
      "outputs": [
        {
          "output_type": "execute_result",
          "data": {
            "text/plain": [
              "(120, 4)"
            ]
          },
          "metadata": {},
          "execution_count": 102
        }
      ]
    },
    {
      "cell_type": "code",
      "source": [
        "# SVM model accuracy\n",
        "#svm = svm.SVC(kernel='linear', C=1.0, gamma=0.5)\n",
        "#svm.fit(X_train, y_train)\n",
        "\n",
        "model = svm.SVC(kernel='linear', C=1.0, gamma=0.5)  # kernel = 'linear' : 선형 커널을 사용하여 데이터를 분류,\n",
        "                                                    # c=1.0: 오류에 대한 패널티를 조절하는 하이퍼파라미터(값이 크면 오분류 패널티가 커져 과적합 가능성 높아짐)\n",
        "                                                    # gamma=0.5 : RBF 커널(Radial Basis Function: 방사 기저 함수: 비선형 커널 - SVM, PCA 에서 주로 사용) 파라미터, 데어티 포인트이 영향력 조절, 선형커널을 사용하므로 직접적 영향 없음.\n",
        "                                                    #                                                                                (Principle Component Analysis : 주성분 분석 - 차원을 줄이기 위함(unsupervised leanring에 많이 사용))\n",
        "model.fit(X_train, y_train)                         # 훈련 데이터를 사용하여 svm 분류기를 훈련\n",
        "\n",
        "predictions = model.predict(X_test)                 # 훈련된 모델을 사용하여 테스트 데이터에서 예측\n",
        "score = metrics.accuracy_score(y_test, predictions)\n",
        "print(\"정확도: {0:0.3f}\".format(score))\n"
      ],
      "metadata": {
        "colab": {
          "base_uri": "https://localhost:8080/"
        },
        "id": "012Hvy4qhcua",
        "outputId": "3c7d4642-840f-4ab6-fcd4-aaf4ee24db86"
      },
      "execution_count": 103,
      "outputs": [
        {
          "output_type": "stream",
          "name": "stdout",
          "text": [
            "정확도: 1.000\n"
          ]
        }
      ]
    },
    {
      "cell_type": "markdown",
      "source": [
        "# a little bit more....."
      ],
      "metadata": {
        "id": "IGu1LeuFHyzo"
      }
    },
    {
      "cell_type": "code",
      "source": [
        "print(y_test)\n",
        "print(predictions)"
      ],
      "metadata": {
        "colab": {
          "base_uri": "https://localhost:8080/"
        },
        "id": "INrITTH6Do00",
        "outputId": "36e0a7b1-066b-44f4-f333-7188ff3c11bc"
      },
      "execution_count": 104,
      "outputs": [
        {
          "output_type": "stream",
          "name": "stdout",
          "text": [
            "[1 0 2 1 1 0 1 2 1 1 2 0 0 0 0 1 2 1 1 2 0 2 0 2 2 2 2 2 0 0]\n",
            "[1 0 2 1 1 0 1 2 1 1 2 0 0 0 0 1 2 1 1 2 0 2 0 2 2 2 2 2 0 0]\n"
          ]
        }
      ]
    },
    {
      "cell_type": "code",
      "source": [
        "print(metrics.classification_report(y_test, predictions))\n"
      ],
      "metadata": {
        "colab": {
          "base_uri": "https://localhost:8080/"
        },
        "id": "QkV-ZbaYFga5",
        "outputId": "92e7f3fd-f68b-4515-dd6f-176261b08e7a"
      },
      "execution_count": 105,
      "outputs": [
        {
          "output_type": "stream",
          "name": "stdout",
          "text": [
            "              precision    recall  f1-score   support\n",
            "\n",
            "           0       1.00      1.00      1.00        10\n",
            "           1       1.00      1.00      1.00         9\n",
            "           2       1.00      1.00      1.00        11\n",
            "\n",
            "    accuracy                           1.00        30\n",
            "   macro avg       1.00      1.00      1.00        30\n",
            "weighted avg       1.00      1.00      1.00        30\n",
            "\n"
          ]
        }
      ]
    },
    {
      "cell_type": "markdown",
      "source": [
        "# SVM 2\n"
      ],
      "metadata": {
        "id": "y2OWNVIgL9Ie"
      }
    },
    {
      "cell_type": "code",
      "source": [
        "#iris = datasets.load_iris()\n",
        "\n",
        "iris.feature_names\n",
        "['sepal length (cm)',\n",
        " 'sepal width (cm)',\n",
        " 'petal length (cm)',\n",
        " 'petal width (cm)']\n",
        "\n",
        "df = pd.DataFrame(iris.data, columns=iris.feature_names)\n",
        "# 데이터 프레임을 만들어줌\n",
        "\n",
        "df['target'] = iris.target\n",
        "# 'target' feature를 만들어줌\n",
        "\n",
        "iris.target_names\n",
        "# 'setosa'=0, 'versicolor'=1, 'virginica'=2\n",
        "np.array(['setosa', 'versicolor', 'virginica'], dtype='<U10')\n",
        "\n",
        "# iris의 target_names을 apply하여 이름을 나타내어줌\n",
        "df['flower_name'] = df.target.apply(lambda x: iris.target_names[x])\n",
        "\n",
        "df0 = df[df.target==0]\n",
        "df1 = df[df.target==1]\n",
        "df2 = df[df.target==2]\n",
        "\n",
        "plt.scatter(df0['sepal length (cm)'], df0['sepal width (cm)'], color = 'green', marker = '+')\n",
        "plt.scatter(df1['sepal length (cm)'], df1['sepal width (cm)'], color = 'blue', marker = '+')\n",
        "plt.xlabel('sepal length (cm)')\n",
        "plt.ylabel('sepal width (cm)')\n",
        "\n"
      ],
      "metadata": {
        "colab": {
          "base_uri": "https://localhost:8080/",
          "height": 469
        },
        "id": "TWjNcoqNG-WF",
        "outputId": "ccf8877a-362a-4b6e-bb36-5481e287ccd4"
      },
      "execution_count": 98,
      "outputs": [
        {
          "output_type": "execute_result",
          "data": {
            "text/plain": [
              "Text(0, 0.5, 'sepal width (cm)')"
            ]
          },
          "metadata": {},
          "execution_count": 98
        },
        {
          "output_type": "display_data",
          "data": {
            "text/plain": [
              "<Figure size 640x480 with 1 Axes>"
            ],
            "image/png": "[encoded data removed]"
          },
          "metadata": {}
        }
      ]
    },
    {
      "cell_type": "code",
      "source": [
        "plt.scatter(df0['petal length (cm)'], df0['petal width (cm)'], color = 'green', marker = '+')\n",
        "plt.scatter(df1['petal length (cm)'], df1['petal width (cm)'], color = 'blue', marker = '+')\n",
        "plt.xlabel('petal length (cm)')\n",
        "plt.ylabel('petal width (cm)')\n"
      ],
      "metadata": {
        "colab": {
          "base_uri": "https://localhost:8080/",
          "height": 466
        },
        "id": "wnNbOQ0mMnW6",
        "outputId": "a28b7b10-6a48-4b5a-c95f-105724cf735d"
      },
      "execution_count": 99,
      "outputs": [
        {
          "output_type": "execute_result",
          "data": {
            "text/plain": [
              "Text(0, 0.5, 'petal width (cm)')"
            ]
          },
          "metadata": {},
          "execution_count": 99
        },
        {
          "output_type": "display_data",
          "data": {
            "text/plain": [
              "<Figure size 640x480 with 1 Axes>"
            ],
            "image/png": "[encoded data removed]"
          },
          "metadata": {}
        }
      ]
    },
    {
      "cell_type": "code",
      "source": [
        "X = df.drop(['target', 'flower_name'], axis = 'columns')\n",
        "y = df.target\n",
        "\n",
        "X_train, X_test, y_train, y_test = train_test_split(X, y, test_size=0.2)\n",
        "\n",
        "model = SVC(C=10)\n",
        "# C값이 클수록 하드마진(오류 허용 안 함), 작을수록 소프트마진(오류를 허용함)이다.\n",
        "# shift tab으로 SVC확인!(여러 파라미터들이 있다.)\n",
        "\n",
        "model.fit(X_train, y_train)\n",
        "\n",
        "model.score(X_test, y_test)"
      ],
      "metadata": {
        "colab": {
          "base_uri": "https://localhost:8080/"
        },
        "id": "QePcURmzM1GA",
        "outputId": "f384c9bb-0f3f-437e-b7c7-9966b9c42599"
      },
      "execution_count": 100,
      "outputs": [
        {
          "output_type": "execute_result",
          "data": {
            "text/plain": [
              "0.9333333333333333"
            ]
          },
          "metadata": {},
          "execution_count": 100
        }
      ]
    }
  ]
}